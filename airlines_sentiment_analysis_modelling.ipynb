{
 "cells": [
  {
   "cell_type": "code",
   "execution_count": 1,
   "metadata": {},
   "outputs": [
    {
     "name": "stderr",
     "output_type": "stream",
     "text": [
      "/anaconda2/lib/python2.7/site-packages/h5py/__init__.py:36: FutureWarning: Conversion of the second argument of issubdtype from `float` to `np.floating` is deprecated. In future, it will be treated as `np.float64 == np.dtype(float).type`.\n",
      "  from ._conv import register_converters as _register_converters\n",
      "Using TensorFlow backend.\n"
     ]
    }
   ],
   "source": [
    "import os\n",
    "import re\n",
    "import time\n",
    "import datetime\n",
    "import operator\n",
    "import pandas as pd\n",
    "import numpy as np\n",
    "import seaborn as sns\n",
    "import matplotlib.pyplot as plt\n",
    "from nltk.corpus import stopwords\n",
    "from nltk.tokenize import word_tokenize\n",
    "from gensim.models import word2vec\n",
    "from wordcloud import WordCloud, STOPWORDS\n",
    "from sklearn.utils import class_weight as cw\n",
    "from sklearn.model_selection import train_test_split, cross_val_score, StratifiedKFold\n",
    "from sklearn.preprocessing import LabelEncoder\n",
    "from sklearn.feature_extraction.text import CountVectorizer\n",
    "from sklearn.feature_extraction.text import TfidfVectorizer\n",
    "from sklearn.metrics import confusion_matrix, classification_report, accuracy_score\n",
    "from sklearn.linear_model import LogisticRegression\n",
    "from sklearn.naive_bayes import MultinomialNB\n",
    "from sklearn.neighbors import KNeighborsClassifier\n",
    "from sklearn.svm import SVC\n",
    "from sklearn.tree import DecisionTreeClassifier\n",
    "from sklearn.ensemble import RandomForestClassifier, AdaBoostClassifier\n",
    "from sklearn.neural_network import MLPClassifier\n",
    "import xgboost as xgb\n",
    "from keras.preprocessing.text import Tokenizer\n",
    "from keras.preprocessing import sequence\n",
    "from keras.utils import to_categorical\n",
    "from keras.models import Model, Sequential\n",
    "from keras.layers import Conv1D, Conv2D, Convolution1D, MaxPooling1D, SeparableConv1D, SpatialDropout1D \n",
    "from keras.layers import Input, Add, concatenate, Dense, Activation, BatchNormalization, Dropout, Flatten\n",
    "from keras.layers import LeakyReLU, PReLU, Lambda, Multiply\n",
    "from keras.layers import MaxPooling2D, GlobalMaxPooling2D, GlobalAveragePooling2D\n",
    "from keras.layers import GlobalAvgPool1D, GlobalMaxPool1D, GlobalMaxPooling1D\n",
    "from keras.layers import Embedding, LSTM, Bidirectional\n",
    "from keras.layers.pooling import _GlobalPooling1D\n",
    "from keras.optimizers import RMSprop, Adam\n",
    "from keras.callbacks import ModelCheckpoint, EarlyStopping, TensorBoard, ReduceLROnPlateau\n",
    "%matplotlib inline"
   ]
  },
  {
   "cell_type": "markdown",
   "metadata": {},
   "source": [
    "### read data"
   ]
  },
  {
   "cell_type": "code",
   "execution_count": 2,
   "metadata": {},
   "outputs": [
    {
     "data": {
      "text/html": [
       "<div>\n",
       "<style scoped>\n",
       "    .dataframe tbody tr th:only-of-type {\n",
       "        vertical-align: middle;\n",
       "    }\n",
       "\n",
       "    .dataframe tbody tr th {\n",
       "        vertical-align: top;\n",
       "    }\n",
       "\n",
       "    .dataframe thead th {\n",
       "        text-align: right;\n",
       "    }\n",
       "</style>\n",
       "<table border=\"1\" class=\"dataframe\">\n",
       "  <thead>\n",
       "    <tr style=\"text-align: right;\">\n",
       "      <th></th>\n",
       "      <th>tweet_id</th>\n",
       "      <th>text</th>\n",
       "      <th>airline_sentiment</th>\n",
       "      <th>airline_sentiment_confidence</th>\n",
       "      <th>airline</th>\n",
       "    </tr>\n",
       "  </thead>\n",
       "  <tbody>\n",
       "    <tr>\n",
       "      <th>0</th>\n",
       "      <td>570306133677760513</td>\n",
       "      <td>@VirginAmerica What @dhepburn said.</td>\n",
       "      <td>neutral</td>\n",
       "      <td>1.0000</td>\n",
       "      <td>Virgin America</td>\n",
       "    </tr>\n",
       "    <tr>\n",
       "      <th>1</th>\n",
       "      <td>570301130888122368</td>\n",
       "      <td>@VirginAmerica plus you've added commercials t...</td>\n",
       "      <td>positive</td>\n",
       "      <td>0.3486</td>\n",
       "      <td>Virgin America</td>\n",
       "    </tr>\n",
       "    <tr>\n",
       "      <th>2</th>\n",
       "      <td>570301083672813571</td>\n",
       "      <td>@VirginAmerica I didn't today... Must mean I n...</td>\n",
       "      <td>neutral</td>\n",
       "      <td>0.6837</td>\n",
       "      <td>Virgin America</td>\n",
       "    </tr>\n",
       "    <tr>\n",
       "      <th>3</th>\n",
       "      <td>570301031407624196</td>\n",
       "      <td>@VirginAmerica it's really aggressive to blast...</td>\n",
       "      <td>negative</td>\n",
       "      <td>1.0000</td>\n",
       "      <td>Virgin America</td>\n",
       "    </tr>\n",
       "    <tr>\n",
       "      <th>4</th>\n",
       "      <td>570300817074462722</td>\n",
       "      <td>@VirginAmerica and it's a really big bad thing...</td>\n",
       "      <td>negative</td>\n",
       "      <td>1.0000</td>\n",
       "      <td>Virgin America</td>\n",
       "    </tr>\n",
       "  </tbody>\n",
       "</table>\n",
       "</div>"
      ],
      "text/plain": [
       "             tweet_id                                               text  \\\n",
       "0  570306133677760513                @VirginAmerica What @dhepburn said.   \n",
       "1  570301130888122368  @VirginAmerica plus you've added commercials t...   \n",
       "2  570301083672813571  @VirginAmerica I didn't today... Must mean I n...   \n",
       "3  570301031407624196  @VirginAmerica it's really aggressive to blast...   \n",
       "4  570300817074462722  @VirginAmerica and it's a really big bad thing...   \n",
       "\n",
       "  airline_sentiment  airline_sentiment_confidence         airline  \n",
       "0           neutral                        1.0000  Virgin America  \n",
       "1          positive                        0.3486  Virgin America  \n",
       "2           neutral                        0.6837  Virgin America  \n",
       "3          negative                        1.0000  Virgin America  \n",
       "4          negative                        1.0000  Virgin America  "
      ]
     },
     "execution_count": 2,
     "metadata": {},
     "output_type": "execute_result"
    }
   ],
   "source": [
    "tweet= pd.read_csv(\"data/Tweets.csv\")\n",
    "tweet[['tweet_id','text', 'airline_sentiment', 'airline_sentiment_confidence', 'airline']].head()"
   ]
  },
  {
   "cell_type": "code",
   "execution_count": 3,
   "metadata": {},
   "outputs": [
    {
     "data": {
      "text/html": [
       "<div>\n",
       "<style scoped>\n",
       "    .dataframe tbody tr th:only-of-type {\n",
       "        vertical-align: middle;\n",
       "    }\n",
       "\n",
       "    .dataframe tbody tr th {\n",
       "        vertical-align: top;\n",
       "    }\n",
       "\n",
       "    .dataframe thead th {\n",
       "        text-align: right;\n",
       "    }\n",
       "</style>\n",
       "<table border=\"1\" class=\"dataframe\">\n",
       "  <thead>\n",
       "    <tr style=\"text-align: right;\">\n",
       "      <th></th>\n",
       "      <th>tweet_id</th>\n",
       "      <th>airline_sentiment</th>\n",
       "      <th>airline_sentiment_confidence</th>\n",
       "      <th>negativereason</th>\n",
       "      <th>negativereason_confidence</th>\n",
       "      <th>airline</th>\n",
       "      <th>airline_sentiment_gold</th>\n",
       "      <th>name</th>\n",
       "      <th>negativereason_gold</th>\n",
       "      <th>retweet_count</th>\n",
       "      <th>text</th>\n",
       "      <th>tweet_coord</th>\n",
       "      <th>tweet_created</th>\n",
       "      <th>tweet_location</th>\n",
       "      <th>user_timezone</th>\n",
       "    </tr>\n",
       "  </thead>\n",
       "  <tbody>\n",
       "    <tr>\n",
       "      <th>0</th>\n",
       "      <td>570306133677760513</td>\n",
       "      <td>neutral</td>\n",
       "      <td>1.0000</td>\n",
       "      <td>NaN</td>\n",
       "      <td>NaN</td>\n",
       "      <td>Virgin America</td>\n",
       "      <td>NaN</td>\n",
       "      <td>cairdin</td>\n",
       "      <td>NaN</td>\n",
       "      <td>0</td>\n",
       "      <td>@VirginAmerica What @dhepburn said.</td>\n",
       "      <td>NaN</td>\n",
       "      <td>2015-02-24 11:35:52 -0800</td>\n",
       "      <td>NaN</td>\n",
       "      <td>Eastern Time (US &amp; Canada)</td>\n",
       "    </tr>\n",
       "    <tr>\n",
       "      <th>1</th>\n",
       "      <td>570301130888122368</td>\n",
       "      <td>positive</td>\n",
       "      <td>0.3486</td>\n",
       "      <td>NaN</td>\n",
       "      <td>0.0000</td>\n",
       "      <td>Virgin America</td>\n",
       "      <td>NaN</td>\n",
       "      <td>jnardino</td>\n",
       "      <td>NaN</td>\n",
       "      <td>0</td>\n",
       "      <td>@VirginAmerica plus you've added commercials t...</td>\n",
       "      <td>NaN</td>\n",
       "      <td>2015-02-24 11:15:59 -0800</td>\n",
       "      <td>NaN</td>\n",
       "      <td>Pacific Time (US &amp; Canada)</td>\n",
       "    </tr>\n",
       "    <tr>\n",
       "      <th>2</th>\n",
       "      <td>570301083672813571</td>\n",
       "      <td>neutral</td>\n",
       "      <td>0.6837</td>\n",
       "      <td>NaN</td>\n",
       "      <td>NaN</td>\n",
       "      <td>Virgin America</td>\n",
       "      <td>NaN</td>\n",
       "      <td>yvonnalynn</td>\n",
       "      <td>NaN</td>\n",
       "      <td>0</td>\n",
       "      <td>@VirginAmerica I didn't today... Must mean I n...</td>\n",
       "      <td>NaN</td>\n",
       "      <td>2015-02-24 11:15:48 -0800</td>\n",
       "      <td>Lets Play</td>\n",
       "      <td>Central Time (US &amp; Canada)</td>\n",
       "    </tr>\n",
       "    <tr>\n",
       "      <th>3</th>\n",
       "      <td>570301031407624196</td>\n",
       "      <td>negative</td>\n",
       "      <td>1.0000</td>\n",
       "      <td>Bad Flight</td>\n",
       "      <td>0.7033</td>\n",
       "      <td>Virgin America</td>\n",
       "      <td>NaN</td>\n",
       "      <td>jnardino</td>\n",
       "      <td>NaN</td>\n",
       "      <td>0</td>\n",
       "      <td>@VirginAmerica it's really aggressive to blast...</td>\n",
       "      <td>NaN</td>\n",
       "      <td>2015-02-24 11:15:36 -0800</td>\n",
       "      <td>NaN</td>\n",
       "      <td>Pacific Time (US &amp; Canada)</td>\n",
       "    </tr>\n",
       "    <tr>\n",
       "      <th>4</th>\n",
       "      <td>570300817074462722</td>\n",
       "      <td>negative</td>\n",
       "      <td>1.0000</td>\n",
       "      <td>Can't Tell</td>\n",
       "      <td>1.0000</td>\n",
       "      <td>Virgin America</td>\n",
       "      <td>NaN</td>\n",
       "      <td>jnardino</td>\n",
       "      <td>NaN</td>\n",
       "      <td>0</td>\n",
       "      <td>@VirginAmerica and it's a really big bad thing...</td>\n",
       "      <td>NaN</td>\n",
       "      <td>2015-02-24 11:14:45 -0800</td>\n",
       "      <td>NaN</td>\n",
       "      <td>Pacific Time (US &amp; Canada)</td>\n",
       "    </tr>\n",
       "  </tbody>\n",
       "</table>\n",
       "</div>"
      ],
      "text/plain": [
       "             tweet_id airline_sentiment  airline_sentiment_confidence  \\\n",
       "0  570306133677760513           neutral                        1.0000   \n",
       "1  570301130888122368          positive                        0.3486   \n",
       "2  570301083672813571           neutral                        0.6837   \n",
       "3  570301031407624196          negative                        1.0000   \n",
       "4  570300817074462722          negative                        1.0000   \n",
       "\n",
       "  negativereason  negativereason_confidence         airline  \\\n",
       "0            NaN                        NaN  Virgin America   \n",
       "1            NaN                     0.0000  Virgin America   \n",
       "2            NaN                        NaN  Virgin America   \n",
       "3     Bad Flight                     0.7033  Virgin America   \n",
       "4     Can't Tell                     1.0000  Virgin America   \n",
       "\n",
       "  airline_sentiment_gold        name negativereason_gold  retweet_count  \\\n",
       "0                    NaN     cairdin                 NaN              0   \n",
       "1                    NaN    jnardino                 NaN              0   \n",
       "2                    NaN  yvonnalynn                 NaN              0   \n",
       "3                    NaN    jnardino                 NaN              0   \n",
       "4                    NaN    jnardino                 NaN              0   \n",
       "\n",
       "                                                text tweet_coord  \\\n",
       "0                @VirginAmerica What @dhepburn said.         NaN   \n",
       "1  @VirginAmerica plus you've added commercials t...         NaN   \n",
       "2  @VirginAmerica I didn't today... Must mean I n...         NaN   \n",
       "3  @VirginAmerica it's really aggressive to blast...         NaN   \n",
       "4  @VirginAmerica and it's a really big bad thing...         NaN   \n",
       "\n",
       "               tweet_created tweet_location               user_timezone  \n",
       "0  2015-02-24 11:35:52 -0800            NaN  Eastern Time (US & Canada)  \n",
       "1  2015-02-24 11:15:59 -0800            NaN  Pacific Time (US & Canada)  \n",
       "2  2015-02-24 11:15:48 -0800      Lets Play  Central Time (US & Canada)  \n",
       "3  2015-02-24 11:15:36 -0800            NaN  Pacific Time (US & Canada)  \n",
       "4  2015-02-24 11:14:45 -0800            NaN  Pacific Time (US & Canada)  "
      ]
     },
     "execution_count": 3,
     "metadata": {},
     "output_type": "execute_result"
    }
   ],
   "source": [
    "tweet.head()"
   ]
  },
  {
   "cell_type": "code",
   "execution_count": 4,
   "metadata": {},
   "outputs": [
    {
     "data": {
      "text/plain": [
       "(14640, 15)"
      ]
     },
     "execution_count": 4,
     "metadata": {},
     "output_type": "execute_result"
    }
   ],
   "source": [
    "tweet.shape"
   ]
  },
  {
   "cell_type": "markdown",
   "metadata": {},
   "source": [
    "### data preprocessing"
   ]
  },
  {
   "cell_type": "code",
   "execution_count": 5,
   "metadata": {},
   "outputs": [
    {
     "name": "stdout",
     "output_type": "stream",
     "text": [
      "47.861451149\n"
     ]
    }
   ],
   "source": [
    "start_time = time.time()\n",
    "#remove words which are starts with @ symbols\n",
    "tweet['text'] = tweet['text'].map(lambda x:re.sub('@\\w*','',str(x)))\n",
    "#remove link starts with https\n",
    "tweet['text'] = tweet['text'].map(lambda x:re.sub('http.*','',str(x)))\n",
    "#remove special characters except [a-zA-Z]\n",
    "tweet['text'] = tweet['text'].map(lambda x:re.sub('[^a-zA-Z]',' ',str(x)))\n",
    "#lowercase\n",
    "tweet['text'] = tweet['text'].map(lambda x:str(x).lower())\n",
    "#Remove stopwords from comments\n",
    "corpus = []\n",
    "none=tweet['text'].map(lambda x:corpus.append(' '.join([word for word in str(x).strip().split() \\\n",
    "                                                        if not word in set(stopwords.words('english'))])))  \n",
    "end_time = time.time()\n",
    "#total time consume to filter data\n",
    "print(end_time-start_time)"
   ]
  },
  {
   "cell_type": "code",
   "execution_count": 6,
   "metadata": {},
   "outputs": [
    {
     "data": {
      "text/plain": [
       "['said',\n",
       " 'plus added commercials experience tacky',\n",
       " 'today must mean need take another trip',\n",
       " 'really aggressive blast obnoxious entertainment guests faces amp little recourse',\n",
       " 'really big bad thing']"
      ]
     },
     "execution_count": 6,
     "metadata": {},
     "output_type": "execute_result"
    }
   ],
   "source": [
    "corpus[:5]"
   ]
  },
  {
   "cell_type": "code",
   "execution_count": 7,
   "metadata": {},
   "outputs": [
    {
     "data": {
      "text/plain": [
       "0     4\n",
       "1    39\n",
       "2    38\n",
       "3    80\n",
       "4    20\n",
       "Name: tweet_length, dtype: int64"
      ]
     },
     "execution_count": 7,
     "metadata": {},
     "output_type": "execute_result"
    }
   ],
   "source": [
    "tweet['cleaned_text'] = pd.DataFrame(data=corpus,columns=['cleaned_text'])\n",
    "x = tweet['cleaned_text']\n",
    "tweet['tweet_length'] = tweet['cleaned_text'].apply(lambda x: len(x))\n",
    "cleaned_word = words = ' '.join(x)\n",
    "tweet['tweet_length'].head()"
   ]
  },
  {
   "cell_type": "markdown",
   "metadata": {},
   "source": [
    "### check null"
   ]
  },
  {
   "cell_type": "code",
   "execution_count": 8,
   "metadata": {},
   "outputs": [
    {
     "data": {
      "text/html": [
       "<div>\n",
       "<style scoped>\n",
       "    .dataframe tbody tr th:only-of-type {\n",
       "        vertical-align: middle;\n",
       "    }\n",
       "\n",
       "    .dataframe tbody tr th {\n",
       "        vertical-align: top;\n",
       "    }\n",
       "\n",
       "    .dataframe thead th {\n",
       "        text-align: right;\n",
       "    }\n",
       "</style>\n",
       "<table border=\"1\" class=\"dataframe\">\n",
       "  <thead>\n",
       "    <tr style=\"text-align: right;\">\n",
       "      <th></th>\n",
       "      <th>tweet_id</th>\n",
       "      <th>airline_sentiment</th>\n",
       "      <th>airline_sentiment_confidence</th>\n",
       "      <th>negativereason</th>\n",
       "      <th>negativereason_confidence</th>\n",
       "      <th>airline</th>\n",
       "      <th>airline_sentiment_gold</th>\n",
       "      <th>name</th>\n",
       "      <th>negativereason_gold</th>\n",
       "      <th>retweet_count</th>\n",
       "      <th>text</th>\n",
       "      <th>tweet_coord</th>\n",
       "      <th>tweet_created</th>\n",
       "      <th>tweet_location</th>\n",
       "      <th>user_timezone</th>\n",
       "      <th>cleaned_text</th>\n",
       "      <th>tweet_length</th>\n",
       "    </tr>\n",
       "  </thead>\n",
       "  <tbody>\n",
       "    <tr>\n",
       "      <th>0</th>\n",
       "      <td>570306133677760513</td>\n",
       "      <td>neutral</td>\n",
       "      <td>1.0000</td>\n",
       "      <td>NaN</td>\n",
       "      <td>NaN</td>\n",
       "      <td>Virgin America</td>\n",
       "      <td>NaN</td>\n",
       "      <td>cairdin</td>\n",
       "      <td>NaN</td>\n",
       "      <td>0</td>\n",
       "      <td>what  said</td>\n",
       "      <td>NaN</td>\n",
       "      <td>2015-02-24 11:35:52 -0800</td>\n",
       "      <td>NaN</td>\n",
       "      <td>Eastern Time (US &amp; Canada)</td>\n",
       "      <td>said</td>\n",
       "      <td>4</td>\n",
       "    </tr>\n",
       "    <tr>\n",
       "      <th>1</th>\n",
       "      <td>570301130888122368</td>\n",
       "      <td>positive</td>\n",
       "      <td>0.3486</td>\n",
       "      <td>NaN</td>\n",
       "      <td>0.0000</td>\n",
       "      <td>Virgin America</td>\n",
       "      <td>NaN</td>\n",
       "      <td>jnardino</td>\n",
       "      <td>NaN</td>\n",
       "      <td>0</td>\n",
       "      <td>plus you ve added commercials to the experien...</td>\n",
       "      <td>NaN</td>\n",
       "      <td>2015-02-24 11:15:59 -0800</td>\n",
       "      <td>NaN</td>\n",
       "      <td>Pacific Time (US &amp; Canada)</td>\n",
       "      <td>plus added commercials experience tacky</td>\n",
       "      <td>39</td>\n",
       "    </tr>\n",
       "    <tr>\n",
       "      <th>2</th>\n",
       "      <td>570301083672813571</td>\n",
       "      <td>neutral</td>\n",
       "      <td>0.6837</td>\n",
       "      <td>NaN</td>\n",
       "      <td>NaN</td>\n",
       "      <td>Virgin America</td>\n",
       "      <td>NaN</td>\n",
       "      <td>yvonnalynn</td>\n",
       "      <td>NaN</td>\n",
       "      <td>0</td>\n",
       "      <td>i didn t today    must mean i need to take an...</td>\n",
       "      <td>NaN</td>\n",
       "      <td>2015-02-24 11:15:48 -0800</td>\n",
       "      <td>Lets Play</td>\n",
       "      <td>Central Time (US &amp; Canada)</td>\n",
       "      <td>today must mean need take another trip</td>\n",
       "      <td>38</td>\n",
       "    </tr>\n",
       "    <tr>\n",
       "      <th>3</th>\n",
       "      <td>570301031407624196</td>\n",
       "      <td>negative</td>\n",
       "      <td>1.0000</td>\n",
       "      <td>Bad Flight</td>\n",
       "      <td>0.7033</td>\n",
       "      <td>Virgin America</td>\n",
       "      <td>NaN</td>\n",
       "      <td>jnardino</td>\n",
       "      <td>NaN</td>\n",
       "      <td>0</td>\n",
       "      <td>it s really aggressive to blast obnoxious  en...</td>\n",
       "      <td>NaN</td>\n",
       "      <td>2015-02-24 11:15:36 -0800</td>\n",
       "      <td>NaN</td>\n",
       "      <td>Pacific Time (US &amp; Canada)</td>\n",
       "      <td>really aggressive blast obnoxious entertainmen...</td>\n",
       "      <td>80</td>\n",
       "    </tr>\n",
       "    <tr>\n",
       "      <th>4</th>\n",
       "      <td>570300817074462722</td>\n",
       "      <td>negative</td>\n",
       "      <td>1.0000</td>\n",
       "      <td>Can't Tell</td>\n",
       "      <td>1.0000</td>\n",
       "      <td>Virgin America</td>\n",
       "      <td>NaN</td>\n",
       "      <td>jnardino</td>\n",
       "      <td>NaN</td>\n",
       "      <td>0</td>\n",
       "      <td>and it s a really big bad thing about it</td>\n",
       "      <td>NaN</td>\n",
       "      <td>2015-02-24 11:14:45 -0800</td>\n",
       "      <td>NaN</td>\n",
       "      <td>Pacific Time (US &amp; Canada)</td>\n",
       "      <td>really big bad thing</td>\n",
       "      <td>20</td>\n",
       "    </tr>\n",
       "  </tbody>\n",
       "</table>\n",
       "</div>"
      ],
      "text/plain": [
       "             tweet_id airline_sentiment  airline_sentiment_confidence  \\\n",
       "0  570306133677760513           neutral                        1.0000   \n",
       "1  570301130888122368          positive                        0.3486   \n",
       "2  570301083672813571           neutral                        0.6837   \n",
       "3  570301031407624196          negative                        1.0000   \n",
       "4  570300817074462722          negative                        1.0000   \n",
       "\n",
       "  negativereason  negativereason_confidence         airline  \\\n",
       "0            NaN                        NaN  Virgin America   \n",
       "1            NaN                     0.0000  Virgin America   \n",
       "2            NaN                        NaN  Virgin America   \n",
       "3     Bad Flight                     0.7033  Virgin America   \n",
       "4     Can't Tell                     1.0000  Virgin America   \n",
       "\n",
       "  airline_sentiment_gold        name negativereason_gold  retweet_count  \\\n",
       "0                    NaN     cairdin                 NaN              0   \n",
       "1                    NaN    jnardino                 NaN              0   \n",
       "2                    NaN  yvonnalynn                 NaN              0   \n",
       "3                    NaN    jnardino                 NaN              0   \n",
       "4                    NaN    jnardino                 NaN              0   \n",
       "\n",
       "                                                text tweet_coord  \\\n",
       "0                                        what  said          NaN   \n",
       "1   plus you ve added commercials to the experien...         NaN   \n",
       "2   i didn t today    must mean i need to take an...         NaN   \n",
       "3   it s really aggressive to blast obnoxious  en...         NaN   \n",
       "4           and it s a really big bad thing about it         NaN   \n",
       "\n",
       "               tweet_created tweet_location               user_timezone  \\\n",
       "0  2015-02-24 11:35:52 -0800            NaN  Eastern Time (US & Canada)   \n",
       "1  2015-02-24 11:15:59 -0800            NaN  Pacific Time (US & Canada)   \n",
       "2  2015-02-24 11:15:48 -0800      Lets Play  Central Time (US & Canada)   \n",
       "3  2015-02-24 11:15:36 -0800            NaN  Pacific Time (US & Canada)   \n",
       "4  2015-02-24 11:14:45 -0800            NaN  Pacific Time (US & Canada)   \n",
       "\n",
       "                                        cleaned_text  tweet_length  \n",
       "0                                               said             4  \n",
       "1            plus added commercials experience tacky            39  \n",
       "2             today must mean need take another trip            38  \n",
       "3  really aggressive blast obnoxious entertainmen...            80  \n",
       "4                               really big bad thing            20  "
      ]
     },
     "execution_count": 8,
     "metadata": {},
     "output_type": "execute_result"
    }
   ],
   "source": [
    "tweet[tweet.isnull().any(axis=1)].head()"
   ]
  },
  {
   "cell_type": "code",
   "execution_count": 9,
   "metadata": {},
   "outputs": [
    {
     "data": {
      "text/plain": [
       "tweet_id                        False\n",
       "airline_sentiment               False\n",
       "airline_sentiment_confidence    False\n",
       "negativereason                   True\n",
       "negativereason_confidence        True\n",
       "airline                         False\n",
       "airline_sentiment_gold           True\n",
       "name                            False\n",
       "negativereason_gold              True\n",
       "retweet_count                   False\n",
       "text                            False\n",
       "tweet_coord                      True\n",
       "tweet_created                   False\n",
       "tweet_location                   True\n",
       "user_timezone                    True\n",
       "cleaned_text                    False\n",
       "tweet_length                    False\n",
       "dtype: bool"
      ]
     },
     "execution_count": 9,
     "metadata": {},
     "output_type": "execute_result"
    }
   ],
   "source": [
    "tweet.isnull().any(axis=0)"
   ]
  },
  {
   "cell_type": "code",
   "execution_count": 10,
   "metadata": {},
   "outputs": [
    {
     "data": {
      "text/plain": [
       "14638"
      ]
     },
     "execution_count": 10,
     "metadata": {},
     "output_type": "execute_result"
    }
   ],
   "source": [
    "np.sum(tweet.isnull().any(axis=1))"
   ]
  },
  {
   "cell_type": "code",
   "execution_count": 11,
   "metadata": {},
   "outputs": [
    {
     "data": {
      "text/plain": [
       "tweet_id                            0\n",
       "airline_sentiment                   0\n",
       "airline_sentiment_confidence        0\n",
       "negativereason                   5462\n",
       "negativereason_confidence        4118\n",
       "airline                             0\n",
       "airline_sentiment_gold          14600\n",
       "name                                0\n",
       "negativereason_gold             14608\n",
       "retweet_count                       0\n",
       "text                                0\n",
       "tweet_coord                     13621\n",
       "tweet_created                       0\n",
       "tweet_location                   4733\n",
       "user_timezone                    4820\n",
       "cleaned_text                        0\n",
       "tweet_length                        0\n",
       "dtype: int64"
      ]
     },
     "execution_count": 11,
     "metadata": {},
     "output_type": "execute_result"
    }
   ],
   "source": [
    "tweet.isnull().sum()"
   ]
  },
  {
   "cell_type": "code",
   "execution_count": 12,
   "metadata": {},
   "outputs": [
    {
     "name": "stdout",
     "output_type": "stream",
     "text": [
      "Null Proportion: \n"
     ]
    },
    {
     "data": {
      "text/plain": [
       "tweet_id                        0.000000\n",
       "airline_sentiment               0.000000\n",
       "airline_sentiment_confidence    0.000000\n",
       "negativereason                  0.373087\n",
       "negativereason_confidence       0.281284\n",
       "airline                         0.000000\n",
       "airline_sentiment_gold          0.997268\n",
       "name                            0.000000\n",
       "negativereason_gold             0.997814\n",
       "retweet_count                   0.000000\n",
       "text                            0.000000\n",
       "tweet_coord                     0.930396\n",
       "tweet_created                   0.000000\n",
       "tweet_location                  0.323292\n",
       "user_timezone                   0.329235\n",
       "cleaned_text                    0.000000\n",
       "tweet_length                    0.000000\n",
       "dtype: float64"
      ]
     },
     "execution_count": 12,
     "metadata": {},
     "output_type": "execute_result"
    }
   ],
   "source": [
    "print(\"Null Proportion: \")\n",
    "(len(tweet)-tweet.count())/len(tweet)"
   ]
  },
  {
   "cell_type": "code",
   "execution_count": 13,
   "metadata": {},
   "outputs": [],
   "source": [
    "del tweet['airline_sentiment_gold']\n",
    "del tweet['negativereason_gold']\n",
    "del tweet['tweet_coord']"
   ]
  },
  {
   "cell_type": "markdown",
   "metadata": {},
   "source": [
    "### data splitting"
   ]
  },
  {
   "cell_type": "code",
   "execution_count": 14,
   "metadata": {},
   "outputs": [
    {
     "name": "stdout",
     "output_type": "stream",
     "text": [
      "0                                                 said\n",
      "1              plus added commercials experience tacky\n",
      "2               today must mean need take another trip\n",
      "3    really aggressive blast obnoxious entertainmen...\n",
      "4                                 really big bad thing\n",
      "Name: cleaned_text, dtype: object\n"
     ]
    },
    {
     "data": {
      "text/plain": [
       "0    0\n",
       "1    1\n",
       "2    0\n",
       "3   -1\n",
       "4   -1\n",
       "Name: airline_sentiment, dtype: int64"
      ]
     },
     "execution_count": 14,
     "metadata": {},
     "output_type": "execute_result"
    }
   ],
   "source": [
    "x = tweet['cleaned_text']\n",
    "print(x.head())\n",
    "y = tweet['airline_sentiment'].map({'neutral':0,'negative':-1,'positive':1})\n",
    "y.head()"
   ]
  },
  {
   "cell_type": "code",
   "execution_count": 15,
   "metadata": {},
   "outputs": [],
   "source": [
    "x_train,x_test,y_train,y_test = train_test_split(x,y,test_size=0.2,random_state=200)"
   ]
  },
  {
   "cell_type": "code",
   "execution_count": 16,
   "metadata": {},
   "outputs": [
    {
     "name": "stdout",
     "output_type": "stream",
     "text": [
      "((11712,), (2928,), (11712,), (2928,))\n"
     ]
    }
   ],
   "source": [
    "print(x_train.shape,x_test.shape,y_train.shape,y_test.shape)"
   ]
  },
  {
   "cell_type": "markdown",
   "metadata": {},
   "source": [
    "### feature extraction"
   ]
  },
  {
   "cell_type": "markdown",
   "metadata": {},
   "source": [
    "**TF-IDF**\n",
    "\n",
    "One issue with CountVectorizer is that there might be words that occur frequently in observations of the target classes. These words do not have discriminatory information and can be removed. **TF-IDF (term frequency - inverse document frequency)** can be used to downweight these frequent words.\n",
    "\n",
    "$$tfidf(t,d) = tf(t,d)*idf(t,d)$$\n",
    "\n",
    "where tf(t,d) is the number of times term *t* occurs in document *d*. The inverse document frequency can be computed as follows:\n",
    "\n",
    "$$idf(t,d) = log{n_d \\over 1 + df(d,t)}$$\n",
    "\n",
    "* $n_d$ is the number of documents\n",
    "* df(d,t) is the number of documents that contain term *t*\n",
    "\n",
    "We see that words that occur in many documents will have a low idf. By adding 1 to the denominator, we avoid having an idf equal to zero for words that occur in all documents."
   ]
  },
  {
   "cell_type": "code",
   "execution_count": 17,
   "metadata": {},
   "outputs": [
    {
     "name": "stdout",
     "output_type": "stream",
     "text": [
      "((11712, 9620), (2928, 9620))\n"
     ]
    }
   ],
   "source": [
    "# Use CountVectorizer for feature extraction\n",
    "vector_count = CountVectorizer(analyzer = \"word\")\n",
    "train_feature = vector_count.fit_transform(x_train).toarray()\n",
    "test_feature = vector_count.transform(x_test).toarray()\n",
    "\n",
    "# Use TfidfVectorizer for feature extraction\n",
    "#token_patten #2 for word length greater than 2>=\n",
    "vector_tfidf = TfidfVectorizer(\n",
    "    stop_words='english',sublinear_tf=True,strip_accents='unicode',\n",
    "    analyzer='word',token_pattern=r'\\w{2,}',ngram_range=(1,1),max_features=10000)\n",
    "\n",
    "x_train_feature = vector_tfidf.fit_transform(x_train).toarray()\n",
    "x_test_feature = vector_tfidf.transform(x_test).toarray()\n",
    "print(x_train_feature.shape,x_test_feature.shape)"
   ]
  },
  {
   "cell_type": "markdown",
   "metadata": {},
   "source": [
    "### model training"
   ]
  },
  {
   "cell_type": "code",
   "execution_count": 18,
   "metadata": {},
   "outputs": [],
   "source": [
    "acc_count, acc_tfidf, models = [],[],[]"
   ]
  },
  {
   "cell_type": "markdown",
   "metadata": {},
   "source": [
    "### logistic regression"
   ]
  },
  {
   "cell_type": "code",
   "execution_count": 19,
   "metadata": {},
   "outputs": [
    {
     "name": "stderr",
     "output_type": "stream",
     "text": [
      "/anaconda2/lib/python2.7/site-packages/sklearn/linear_model/logistic.py:433: FutureWarning: Default solver will be changed to 'lbfgs' in 0.22. Specify a solver to silence this warning.\n",
      "  FutureWarning)\n",
      "/anaconda2/lib/python2.7/site-packages/sklearn/linear_model/logistic.py:460: FutureWarning: Default multi_class will be changed to 'auto' in 0.22. Specify the multi_class option to silence this warning.\n",
      "  \"this warning.\", FutureWarning)\n"
     ]
    },
    {
     "name": "stdout",
     "output_type": "stream",
     "text": [
      "('accuracy: ', 0.7954234972677595)\n",
      "[[1663  134   48]\n",
      " [ 196  344   69]\n",
      " [  90   62  322]]\n",
      "              precision    recall  f1-score   support\n",
      "\n",
      "          -1       0.85      0.90      0.88      1845\n",
      "           0       0.64      0.56      0.60       609\n",
      "           1       0.73      0.68      0.71       474\n",
      "\n",
      "   micro avg       0.80      0.80      0.80      2928\n",
      "   macro avg       0.74      0.72      0.73      2928\n",
      "weighted avg       0.79      0.80      0.79      2928\n",
      "\n",
      "CPU times: user 749 ms, sys: 468 ms, total: 1.22 s\n",
      "Wall time: 1.16 s\n"
     ]
    }
   ],
   "source": [
    "%%time\n",
    "# countVectorizer\n",
    "classifier = LogisticRegression()\n",
    "classifier.fit(train_feature,y_train)\n",
    "y_pred = classifier.predict(test_feature)\n",
    "cm = confusion_matrix(y_test,y_pred)\n",
    "acc_lr = accuracy_score(y_test,y_pred)\n",
    "acc_count.append(acc_lr)\n",
    "models.append(classifier.__class__.__name__)\n",
    "print(\"accuracy: \", acc_lr)\n",
    "print(cm)\n",
    "print(classification_report(y_test, y_pred))"
   ]
  },
  {
   "cell_type": "code",
   "execution_count": 20,
   "metadata": {},
   "outputs": [
    {
     "name": "stdout",
     "output_type": "stream",
     "text": [
      "('accuracy: ', 0.7684426229508197)\n",
      "[[1761   65   19]\n",
      " [ 343  223   43]\n",
      " [ 173   35  266]]\n",
      "              precision    recall  f1-score   support\n",
      "\n",
      "          -1       0.77      0.95      0.85      1845\n",
      "           0       0.69      0.37      0.48       609\n",
      "           1       0.81      0.56      0.66       474\n",
      "\n",
      "   micro avg       0.77      0.77      0.77      2928\n",
      "   macro avg       0.76      0.63      0.67      2928\n",
      "weighted avg       0.76      0.77      0.75      2928\n",
      "\n"
     ]
    }
   ],
   "source": [
    "# TfidfVectorizer\n",
    "classifier = LogisticRegression()\n",
    "classifier.fit(x_train_feature,y_train)\n",
    "y_pred = classifier.predict(x_test_feature)\n",
    "cm = confusion_matrix(y_test,y_pred)\n",
    "acc_lr = accuracy_score(y_test,y_pred)\n",
    "acc_tfidf.append(acc_lr)\n",
    "print(\"accuracy: \", acc_lr)\n",
    "print(cm)\n",
    "print(classification_report(y_test, y_pred))"
   ]
  },
  {
   "cell_type": "code",
   "execution_count": 21,
   "metadata": {},
   "outputs": [
    {
     "data": {
      "text/plain": [
       "array([[0.87583841, 0.08149999, 0.0426616 ],\n",
       "       [0.6351717 , 0.30196057, 0.06286773],\n",
       "       [0.08759537, 0.42589103, 0.4865136 ],\n",
       "       [0.2467962 , 0.23999256, 0.51321124],\n",
       "       [0.60143004, 0.28649419, 0.11207577]])"
      ]
     },
     "execution_count": 21,
     "metadata": {},
     "output_type": "execute_result"
    }
   ],
   "source": [
    "#To determine probability of negative, negative or positive comment\n",
    "y_pred_prob = classifier.predict_proba(x_test_feature)\n",
    "y_pred_prob[:5]"
   ]
  },
  {
   "cell_type": "code",
   "execution_count": 22,
   "metadata": {},
   "outputs": [
    {
     "data": {
      "text/plain": [
       "array([-1, -1,  1,  1, -1])"
      ]
     },
     "execution_count": 22,
     "metadata": {},
     "output_type": "execute_result"
    }
   ],
   "source": [
    "y_pred[:5]"
   ]
  },
  {
   "cell_type": "markdown",
   "metadata": {},
   "source": [
    "### Naive Bayes"
   ]
  },
  {
   "cell_type": "code",
   "execution_count": 23,
   "metadata": {},
   "outputs": [
    {
     "name": "stdout",
     "output_type": "stream",
     "text": [
      "('accuracy: ', 0.7711748633879781)\n",
      "[[1731   81   33]\n",
      " [ 321  242   46]\n",
      " [ 153   36  285]]\n",
      "              precision    recall  f1-score   support\n",
      "\n",
      "          -1       0.79      0.94      0.85      1845\n",
      "           0       0.67      0.40      0.50       609\n",
      "           1       0.78      0.60      0.68       474\n",
      "\n",
      "   micro avg       0.77      0.77      0.77      2928\n",
      "   macro avg       0.75      0.65      0.68      2928\n",
      "weighted avg       0.76      0.77      0.75      2928\n",
      "\n",
      "CPU times: user 695 ms, sys: 384 ms, total: 1.08 s\n",
      "Wall time: 866 ms\n"
     ]
    }
   ],
   "source": [
    "%%time\n",
    "# countVectorizer\n",
    "classifier = MultinomialNB()\n",
    "classifier.fit(train_feature,y_train)\n",
    "y_pred = classifier.predict(test_feature)\n",
    "cm = confusion_matrix(y_test,y_pred)\n",
    "acc_lr = accuracy_score(y_test,y_pred)\n",
    "acc_count.append(acc_lr)\n",
    "models.append(\"Naive Bayes\")\n",
    "print(\"accuracy: \", acc_lr)\n",
    "print(cm)\n",
    "print(classification_report(y_test, y_pred))"
   ]
  },
  {
   "cell_type": "code",
   "execution_count": 24,
   "metadata": {},
   "outputs": [
    {
     "name": "stdout",
     "output_type": "stream",
     "text": [
      "('accuracy: ', 0.6977459016393442)\n",
      "[[1833   10    2]\n",
      " [ 503   93   13]\n",
      " [ 342   15  117]]\n",
      "              precision    recall  f1-score   support\n",
      "\n",
      "          -1       0.68      0.99      0.81      1845\n",
      "           0       0.79      0.15      0.26       609\n",
      "           1       0.89      0.25      0.39       474\n",
      "\n",
      "   micro avg       0.70      0.70      0.70      2928\n",
      "   macro avg       0.79      0.46      0.48      2928\n",
      "weighted avg       0.74      0.70      0.63      2928\n",
      "\n"
     ]
    }
   ],
   "source": [
    "# TfidfVectorizer\n",
    "classifier = MultinomialNB()\n",
    "classifier.fit(x_train_feature,y_train)\n",
    "y_pred = classifier.predict(x_test_feature)\n",
    "cm = confusion_matrix(y_test,y_pred)\n",
    "acc_lr = accuracy_score(y_test,y_pred)\n",
    "acc_tfidf.append(acc_lr)\n",
    "print(\"accuracy: \", acc_lr)\n",
    "print(cm)\n",
    "print(classification_report(y_test, y_pred))"
   ]
  },
  {
   "cell_type": "markdown",
   "metadata": {},
   "source": [
    "### knn"
   ]
  },
  {
   "cell_type": "code",
   "execution_count": 25,
   "metadata": {},
   "outputs": [
    {
     "name": "stdout",
     "output_type": "stream",
     "text": [
      "('accuracy: ', 0.5461065573770492)\n",
      "[[1072  704   69]\n",
      " [ 258  292   59]\n",
      " [ 119  120  235]]\n",
      "              precision    recall  f1-score   support\n",
      "\n",
      "          -1       0.74      0.58      0.65      1845\n",
      "           0       0.26      0.48      0.34       609\n",
      "           1       0.65      0.50      0.56       474\n",
      "\n",
      "   micro avg       0.55      0.55      0.55      2928\n",
      "   macro avg       0.55      0.52      0.52      2928\n",
      "weighted avg       0.63      0.55      0.57      2928\n",
      "\n",
      "CPU times: user 7min 44s, sys: 2.4 s, total: 7min 47s\n",
      "Wall time: 7min 52s\n"
     ]
    }
   ],
   "source": [
    "%%time\n",
    "# countVectorizer\n",
    "classifier = KNeighborsClassifier(n_neighbors=5)\n",
    "classifier.fit(train_feature,y_train)\n",
    "y_pred = classifier.predict(test_feature)\n",
    "cm = confusion_matrix(y_test,y_pred)\n",
    "acc_lr = accuracy_score(y_test,y_pred)\n",
    "acc_count.append(acc_lr)\n",
    "models.append(classifier.__class__.__name__)\n",
    "print(\"accuracy: \", acc_lr)\n",
    "print(cm)\n",
    "print(classification_report(y_test, y_pred))"
   ]
  },
  {
   "cell_type": "code",
   "execution_count": 26,
   "metadata": {},
   "outputs": [
    {
     "name": "stdout",
     "output_type": "stream",
     "text": [
      "('accuracy: ', 0.4030054644808743)\n",
      "[[ 711 1125    9]\n",
      " [ 206  387   16]\n",
      " [ 136  256   82]]\n",
      "              precision    recall  f1-score   support\n",
      "\n",
      "          -1       0.68      0.39      0.49      1845\n",
      "           0       0.22      0.64      0.33       609\n",
      "           1       0.77      0.17      0.28       474\n",
      "\n",
      "   micro avg       0.40      0.40      0.40      2928\n",
      "   macro avg       0.55      0.40      0.37      2928\n",
      "weighted avg       0.60      0.40      0.42      2928\n",
      "\n"
     ]
    }
   ],
   "source": [
    "# TfidfVectorizer\n",
    "classifier = KNeighborsClassifier(n_neighbors=5)\n",
    "classifier.fit(x_train_feature,y_train)\n",
    "y_pred = classifier.predict(x_test_feature)\n",
    "cm = confusion_matrix(y_test,y_pred)\n",
    "acc_lr = accuracy_score(y_test,y_pred)\n",
    "acc_tfidf.append(acc_lr)\n",
    "print(\"accuracy: \", acc_lr)\n",
    "print(cm)\n",
    "print(classification_report(y_test, y_pred))"
   ]
  },
  {
   "cell_type": "markdown",
   "metadata": {},
   "source": [
    "### svm"
   ]
  },
  {
   "cell_type": "markdown",
   "metadata": {},
   "source": [
    "The classifier will take into account each unique word present in the sentence, as well as all consecutive words. To make this representation useful for our SVM classifier we transform each sentence into a vector. The vector is of the same length as our vocabulary, i.e. the list of all words observed in our training data, with each word representing an entry in the vector. If a particular word is present, that entry in the vector is 1, otherwise 0.\n",
    "\n",
    "To create these vectors we use the CountVectorizer from sklearn."
   ]
  },
  {
   "cell_type": "code",
   "execution_count": 27,
   "metadata": {},
   "outputs": [
    {
     "name": "stderr",
     "output_type": "stream",
     "text": [
      "/anaconda2/lib/python2.7/site-packages/sklearn/svm/base.py:196: FutureWarning: The default value of gamma will change from 'auto' to 'scale' in version 0.22 to account better for unscaled features. Set gamma explicitly to 'auto' or 'scale' to avoid this warning.\n",
      "  \"avoid this warning.\", FutureWarning)\n"
     ]
    },
    {
     "name": "stdout",
     "output_type": "stream",
     "text": [
      "('accuracy: ', 0.6301229508196722)\n",
      "[[1845    0    0]\n",
      " [ 609    0    0]\n",
      " [ 474    0    0]]\n",
      "              precision    recall  f1-score   support\n",
      "\n",
      "          -1       0.63      1.00      0.77      1845\n",
      "           0       0.00      0.00      0.00       609\n",
      "           1       0.00      0.00      0.00       474\n",
      "\n",
      "   micro avg       0.63      0.63      0.63      2928\n",
      "   macro avg       0.21      0.33      0.26      2928\n",
      "weighted avg       0.40      0.63      0.49      2928\n",
      "\n",
      "CPU times: user 1h 43min 14s, sys: 42.1 s, total: 1h 43min 56s\n",
      "Wall time: 1h 45min 45s\n"
     ]
    },
    {
     "name": "stderr",
     "output_type": "stream",
     "text": [
      "/anaconda2/lib/python2.7/site-packages/sklearn/metrics/classification.py:1143: UndefinedMetricWarning: Precision and F-score are ill-defined and being set to 0.0 in labels with no predicted samples.\n",
      "  'precision', 'predicted', average, warn_for)\n"
     ]
    }
   ],
   "source": [
    "%%time\n",
    "# countVectorizer\n",
    "classifier = SVC(kernel=\"rbf\", C=0.025, probability=True)\n",
    "classifier.fit(train_feature,y_train)\n",
    "y_pred = classifier.predict(test_feature)\n",
    "cm = confusion_matrix(y_test,y_pred)\n",
    "acc_lr = accuracy_score(y_test,y_pred)\n",
    "acc_count.append(acc_lr)\n",
    "models.append(\"SVM\")\n",
    "print(\"accuracy: \", acc_lr)\n",
    "print(cm)\n",
    "print(classification_report(y_test, y_pred))"
   ]
  },
  {
   "cell_type": "code",
   "execution_count": 28,
   "metadata": {},
   "outputs": [
    {
     "name": "stdout",
     "output_type": "stream",
     "text": [
      "('accuracy: ', 0.6301229508196722)\n",
      "[[1845    0    0]\n",
      " [ 609    0    0]\n",
      " [ 474    0    0]]\n",
      "              precision    recall  f1-score   support\n",
      "\n",
      "          -1       0.63      1.00      0.77      1845\n",
      "           0       0.00      0.00      0.00       609\n",
      "           1       0.00      0.00      0.00       474\n",
      "\n",
      "   micro avg       0.63      0.63      0.63      2928\n",
      "   macro avg       0.21      0.33      0.26      2928\n",
      "weighted avg       0.40      0.63      0.49      2928\n",
      "\n"
     ]
    }
   ],
   "source": [
    "# TfidfVectorizer\n",
    "classifier = SVC(kernel=\"rbf\", C=0.025, probability=True)\n",
    "classifier.fit(x_train_feature,y_train)\n",
    "y_pred = classifier.predict(x_test_feature)\n",
    "cm = confusion_matrix(y_test,y_pred)\n",
    "acc_lr = accuracy_score(y_test,y_pred)\n",
    "acc_tfidf.append(acc_lr)\n",
    "print(\"accuracy: \", acc_lr)\n",
    "print(cm)\n",
    "print(classification_report(y_test, y_pred))"
   ]
  },
  {
   "cell_type": "markdown",
   "metadata": {},
   "source": [
    "### decision tree"
   ]
  },
  {
   "cell_type": "code",
   "execution_count": 29,
   "metadata": {},
   "outputs": [
    {
     "name": "stdout",
     "output_type": "stream",
     "text": [
      "('accuracy: ', 0.7059426229508197)\n",
      "[[1484  259  102]\n",
      " [ 223  300   86]\n",
      " [ 117   74  283]]\n",
      "              precision    recall  f1-score   support\n",
      "\n",
      "          -1       0.81      0.80      0.81      1845\n",
      "           0       0.47      0.49      0.48       609\n",
      "           1       0.60      0.60      0.60       474\n",
      "\n",
      "   micro avg       0.71      0.71      0.71      2928\n",
      "   macro avg       0.63      0.63      0.63      2928\n",
      "weighted avg       0.71      0.71      0.71      2928\n",
      "\n",
      "CPU times: user 1min 29s, sys: 1.41 s, total: 1min 31s\n",
      "Wall time: 1min 37s\n"
     ]
    }
   ],
   "source": [
    "%%time\n",
    "# countVectorizer\n",
    "classifier = DecisionTreeClassifier()\n",
    "classifier.fit(train_feature,y_train)\n",
    "y_pred = classifier.predict(test_feature)\n",
    "cm = confusion_matrix(y_test,y_pred)\n",
    "acc_lr = accuracy_score(y_test,y_pred)\n",
    "acc_count.append(acc_lr)\n",
    "models.append(classifier.__class__.__name__)\n",
    "print(\"accuracy: \", acc_lr)\n",
    "print(cm)\n",
    "print(classification_report(y_test, y_pred))"
   ]
  },
  {
   "cell_type": "code",
   "execution_count": 30,
   "metadata": {},
   "outputs": [
    {
     "name": "stdout",
     "output_type": "stream",
     "text": [
      "('accuracy: ', 0.7066256830601093)\n",
      "[[1488  254  103]\n",
      " [ 219  297   93]\n",
      " [ 124   66  284]]\n",
      "              precision    recall  f1-score   support\n",
      "\n",
      "          -1       0.81      0.81      0.81      1845\n",
      "           0       0.48      0.49      0.48       609\n",
      "           1       0.59      0.60      0.60       474\n",
      "\n",
      "   micro avg       0.71      0.71      0.71      2928\n",
      "   macro avg       0.63      0.63      0.63      2928\n",
      "weighted avg       0.71      0.71      0.71      2928\n",
      "\n"
     ]
    }
   ],
   "source": [
    "# TfidfVectorizer\n",
    "classifier = DecisionTreeClassifier()\n",
    "classifier.fit(x_train_feature,y_train)\n",
    "y_pred = classifier.predict(x_test_feature)\n",
    "cm = confusion_matrix(y_test,y_pred)\n",
    "acc_lr = accuracy_score(y_test,y_pred)\n",
    "acc_tfidf.append(acc_lr)\n",
    "print(\"accuracy: \", acc_lr)\n",
    "print(cm)\n",
    "print(classification_report(y_test, y_pred))"
   ]
  },
  {
   "cell_type": "markdown",
   "metadata": {},
   "source": [
    "### random forest"
   ]
  },
  {
   "cell_type": "code",
   "execution_count": 31,
   "metadata": {},
   "outputs": [
    {
     "name": "stdout",
     "output_type": "stream",
     "text": [
      "('accuracy: ', 0.7602459016393442)\n",
      "[[1640  147   58]\n",
      " [ 241  300   68]\n",
      " [ 119   69  286]]\n",
      "              precision    recall  f1-score   support\n",
      "\n",
      "          -1       0.82      0.89      0.85      1845\n",
      "           0       0.58      0.49      0.53       609\n",
      "           1       0.69      0.60      0.65       474\n",
      "\n",
      "   micro avg       0.76      0.76      0.76      2928\n",
      "   macro avg       0.70      0.66      0.68      2928\n",
      "weighted avg       0.75      0.76      0.75      2928\n",
      "\n",
      "CPU times: user 1min 51s, sys: 1.18 s, total: 1min 52s\n",
      "Wall time: 1min 54s\n"
     ]
    }
   ],
   "source": [
    "%%time\n",
    "# countVectorizer\n",
    "classifier = RandomForestClassifier(n_estimators=100)\n",
    "classifier.fit(train_feature,y_train)\n",
    "y_pred = classifier.predict(test_feature)\n",
    "cm = confusion_matrix(y_test,y_pred)\n",
    "acc_lr = accuracy_score(y_test,y_pred)\n",
    "acc_count.append(acc_lr)\n",
    "models.append(classifier.__class__.__name__)\n",
    "print(\"accuracy: \", acc_lr)\n",
    "print(cm)\n",
    "print(classification_report(y_test, y_pred))"
   ]
  },
  {
   "cell_type": "code",
   "execution_count": 32,
   "metadata": {},
   "outputs": [
    {
     "name": "stdout",
     "output_type": "stream",
     "text": [
      "('accuracy: ', 0.76775956284153)\n",
      "[[1680  120   45]\n",
      " [ 265  277   67]\n",
      " [ 134   49  291]]\n",
      "              precision    recall  f1-score   support\n",
      "\n",
      "          -1       0.81      0.91      0.86      1845\n",
      "           0       0.62      0.45      0.53       609\n",
      "           1       0.72      0.61      0.66       474\n",
      "\n",
      "   micro avg       0.77      0.77      0.77      2928\n",
      "   macro avg       0.72      0.66      0.68      2928\n",
      "weighted avg       0.76      0.77      0.76      2928\n",
      "\n"
     ]
    }
   ],
   "source": [
    "# TfidfVectorizer\n",
    "classifier = RandomForestClassifier(n_estimators=100)\n",
    "classifier.fit(x_train_feature,y_train)\n",
    "y_pred = classifier.predict(x_test_feature)\n",
    "cm = confusion_matrix(y_test,y_pred)\n",
    "acc_lr = accuracy_score(y_test,y_pred)\n",
    "acc_tfidf.append(acc_lr)\n",
    "print(\"accuracy: \", acc_lr)\n",
    "print(cm)\n",
    "print(classification_report(y_test, y_pred))"
   ]
  },
  {
   "cell_type": "markdown",
   "metadata": {},
   "source": [
    "### AdaBoost"
   ]
  },
  {
   "cell_type": "code",
   "execution_count": 33,
   "metadata": {},
   "outputs": [
    {
     "name": "stdout",
     "output_type": "stream",
     "text": [
      "('accuracy: ', 0.7079918032786885)\n",
      "[[1765   22   58]\n",
      " [ 519   30   60]\n",
      " [ 193    3  278]]\n",
      "              precision    recall  f1-score   support\n",
      "\n",
      "          -1       0.71      0.96      0.82      1845\n",
      "           0       0.55      0.05      0.09       609\n",
      "           1       0.70      0.59      0.64       474\n",
      "\n",
      "   micro avg       0.71      0.71      0.71      2928\n",
      "   macro avg       0.65      0.53      0.52      2928\n",
      "weighted avg       0.68      0.71      0.64      2928\n",
      "\n",
      "CPU times: user 2min 1s, sys: 1.12 s, total: 2min 2s\n",
      "Wall time: 2min 4s\n"
     ]
    }
   ],
   "source": [
    "%%time\n",
    "# countVectorizer\n",
    "classifier = AdaBoostClassifier()\n",
    "classifier.fit(train_feature,y_train)\n",
    "y_pred = classifier.predict(test_feature)\n",
    "\n",
    "cm = confusion_matrix(y_test,y_pred)\n",
    "acc_lr = accuracy_score(y_test,y_pred)\n",
    "acc_count.append(acc_lr)\n",
    "models.append(classifier.__class__.__name__)\n",
    "print(\"accuracy: \", acc_lr)\n",
    "print(cm)\n",
    "print(classification_report(y_test, y_pred))"
   ]
  },
  {
   "cell_type": "code",
   "execution_count": 34,
   "metadata": {},
   "outputs": [
    {
     "name": "stdout",
     "output_type": "stream",
     "text": [
      "('accuracy: ', 0.7144808743169399)\n",
      "[[1759   25   61]\n",
      " [ 498   51   60]\n",
      " [ 186    6  282]]\n",
      "              precision    recall  f1-score   support\n",
      "\n",
      "          -1       0.72      0.95      0.82      1845\n",
      "           0       0.62      0.08      0.15       609\n",
      "           1       0.70      0.59      0.64       474\n",
      "\n",
      "   micro avg       0.71      0.71      0.71      2928\n",
      "   macro avg       0.68      0.54      0.54      2928\n",
      "weighted avg       0.70      0.71      0.65      2928\n",
      "\n"
     ]
    }
   ],
   "source": [
    "# TfidfVectorizer\n",
    "classifier = AdaBoostClassifier()\n",
    "classifier.fit(x_train_feature,y_train)\n",
    "y_pred = classifier.predict(x_test_feature)\n",
    "\n",
    "cm = confusion_matrix(y_test,y_pred)\n",
    "acc_lr = accuracy_score(y_test,y_pred)\n",
    "acc_tfidf.append(acc_lr)\n",
    "print(\"accuracy: \", acc_lr)\n",
    "print(cm)\n",
    "print(classification_report(y_test, y_pred))"
   ]
  },
  {
   "cell_type": "markdown",
   "metadata": {},
   "source": [
    "### XGBoost"
   ]
  },
  {
   "cell_type": "code",
   "execution_count": 35,
   "metadata": {},
   "outputs": [
    {
     "name": "stdout",
     "output_type": "stream",
     "text": [
      "('accuracy: ', 0.7165300546448088)\n",
      "[[1789    7   49]\n",
      " [ 505   52   52]\n",
      " [ 213    4  257]]\n",
      "              precision    recall  f1-score   support\n",
      "\n",
      "          -1       0.71      0.97      0.82      1845\n",
      "           0       0.83      0.09      0.15       609\n",
      "           1       0.72      0.54      0.62       474\n",
      "\n",
      "   micro avg       0.72      0.72      0.72      2928\n",
      "   macro avg       0.75      0.53      0.53      2928\n",
      "weighted avg       0.74      0.72      0.65      2928\n",
      "\n",
      "CPU times: user 17min 38s, sys: 9.23 s, total: 17min 47s\n",
      "Wall time: 18min 13s\n"
     ]
    }
   ],
   "source": [
    "%%time\n",
    "# countVectorizer\n",
    "classifier = xgb.XGBClassifier()\n",
    "classifier.fit(train_feature,y_train)\n",
    "y_pred = classifier.predict(test_feature)\n",
    "\n",
    "cm = confusion_matrix(y_test,y_pred)\n",
    "acc_lr = accuracy_score(y_test,y_pred)\n",
    "acc_count.append(acc_lr)\n",
    "models.append(classifier.__class__.__name__)\n",
    "print(\"accuracy: \", acc_lr)\n",
    "print(cm)\n",
    "print(classification_report(y_test, y_pred))"
   ]
  },
  {
   "cell_type": "code",
   "execution_count": 36,
   "metadata": {},
   "outputs": [
    {
     "name": "stdout",
     "output_type": "stream",
     "text": [
      "('accuracy: ', 0.7182377049180327)\n",
      "[[1790   16   39]\n",
      " [ 488   66   55]\n",
      " [ 221    6  247]]\n",
      "              precision    recall  f1-score   support\n",
      "\n",
      "          -1       0.72      0.97      0.82      1845\n",
      "           0       0.75      0.11      0.19       609\n",
      "           1       0.72      0.52      0.61       474\n",
      "\n",
      "   micro avg       0.72      0.72      0.72      2928\n",
      "   macro avg       0.73      0.53      0.54      2928\n",
      "weighted avg       0.72      0.72      0.66      2928\n",
      "\n"
     ]
    }
   ],
   "source": [
    "# TfidfVectorizer\n",
    "classifier = xgb.XGBClassifier()\n",
    "classifier.fit(x_train_feature,y_train)\n",
    "y_pred = classifier.predict(x_test_feature)\n",
    "\n",
    "cm = confusion_matrix(y_test,y_pred)\n",
    "acc_lr = accuracy_score(y_test,y_pred)\n",
    "acc_tfidf.append(acc_lr)\n",
    "print(\"accuracy: \", acc_lr)\n",
    "print(cm)\n",
    "print(classification_report(y_test, y_pred))"
   ]
  },
  {
   "cell_type": "markdown",
   "metadata": {},
   "source": [
    "### ANN"
   ]
  },
  {
   "cell_type": "code",
   "execution_count": 37,
   "metadata": {},
   "outputs": [
    {
     "name": "stdout",
     "output_type": "stream",
     "text": [
      "('accuracy: ', 0.7551229508196722)\n",
      "[[1565  203   77]\n",
      " [ 199  333   77]\n",
      " [  90   71  313]]\n",
      "              precision    recall  f1-score   support\n",
      "\n",
      "          -1       0.84      0.85      0.85      1845\n",
      "           0       0.55      0.55      0.55       609\n",
      "           1       0.67      0.66      0.67       474\n",
      "\n",
      "   micro avg       0.76      0.76      0.76      2928\n",
      "   macro avg       0.69      0.69      0.69      2928\n",
      "weighted avg       0.75      0.76      0.75      2928\n",
      "\n",
      "CPU times: user 4min 26s, sys: 49.2 s, total: 5min 15s\n",
      "Wall time: 3min 33s\n"
     ]
    }
   ],
   "source": [
    "%%time\n",
    "# countVectorizer\n",
    "classifier =  MLPClassifier(solver='adam', alpha=1e-5, hidden_layer_sizes=(100, 20), \n",
    "                           random_state=1, max_iter=400)\n",
    "classifier.fit(train_feature,y_train)\n",
    "y_pred = classifier.predict(test_feature)\n",
    "\n",
    "cm = confusion_matrix(y_test,y_pred)\n",
    "acc_lr = accuracy_score(y_test,y_pred)\n",
    "acc_count.append(acc_lr)\n",
    "models.append(\"ANN\")\n",
    "print(\"accuracy: \", acc_lr)\n",
    "print(cm)\n",
    "print(classification_report(y_test, y_pred))"
   ]
  },
  {
   "cell_type": "code",
   "execution_count": 38,
   "metadata": {},
   "outputs": [
    {
     "name": "stdout",
     "output_type": "stream",
     "text": [
      "('accuracy: ', 0.7240437158469946)\n",
      "[[1540  214   91]\n",
      " [ 218  296   95]\n",
      " [ 110   80  284]]\n",
      "              precision    recall  f1-score   support\n",
      "\n",
      "          -1       0.82      0.83      0.83      1845\n",
      "           0       0.50      0.49      0.49       609\n",
      "           1       0.60      0.60      0.60       474\n",
      "\n",
      "   micro avg       0.72      0.72      0.72      2928\n",
      "   macro avg       0.64      0.64      0.64      2928\n",
      "weighted avg       0.72      0.72      0.72      2928\n",
      "\n"
     ]
    }
   ],
   "source": [
    "# TfidfVectorizer\n",
    "classifier = MLPClassifier(solver='adam', alpha=1e-5, hidden_layer_sizes=(100, 20), \n",
    "                           random_state=1, max_iter=400)\n",
    "classifier.fit(x_train_feature,y_train)\n",
    "y_pred = classifier.predict(x_test_feature)\n",
    "cm = confusion_matrix(y_test,y_pred)\n",
    "acc_lr = accuracy_score(y_test,y_pred)\n",
    "acc_tfidf.append(acc_lr)\n",
    "print(\"accuracy: \", acc_lr)\n",
    "print(cm)\n",
    "print(classification_report(y_test, y_pred))"
   ]
  },
  {
   "cell_type": "markdown",
   "metadata": {},
   "source": [
    "### Machine Learning Comparison"
   ]
  },
  {
   "cell_type": "code",
   "execution_count": 39,
   "metadata": {},
   "outputs": [
    {
     "name": "stderr",
     "output_type": "stream",
     "text": [
      "/anaconda2/lib/python2.7/site-packages/pandas/plotting/_core.py:1716: UserWarning: Pandas doesn't allow columns to be created via a new attribute name - see https://pandas.pydata.org/pandas-docs/stable/indexing.html#attribute-access\n",
      "  series.name = label\n"
     ]
    },
    {
     "data": {
      "text/plain": [
       "<matplotlib.axes._subplots.AxesSubplot at 0x1a2ca01150>"
      ]
     },
     "execution_count": 39,
     "metadata": {},
     "output_type": "execute_result"
    },
    {
     "data": {
      "image/png": "[encoded data removed]",
      "text/plain": [
       "<matplotlib.figure.Figure at 0x10d5b4210>"
      ]
     },
     "metadata": {},
     "output_type": "display_data"
    }
   ],
   "source": [
    "zippedList =  list(zip(models, acc_count, acc_tfidf))\n",
    "# Create a dataframe from zipped list\n",
    "df_model = pd.DataFrame(zippedList, columns = ['Models' , 'acc_count', 'acc_tfidf']) \n",
    "#plot\n",
    "df_model.plot(x=\"Models\", y=[\"acc_count\",\"acc_tfidf\"], kind=\"bar\")"
   ]
  },
  {
   "cell_type": "markdown",
   "metadata": {},
   "source": [
    "### deep learning configuration"
   ]
  },
  {
   "cell_type": "code",
   "execution_count": 40,
   "metadata": {},
   "outputs": [],
   "source": [
    "# print date and time for given type of representation\n",
    "def date_time(x):\n",
    "    if x==1:\n",
    "        return 'Timestamp: {:%Y-%m-%d %H:%M:%S}'.format(datetime.datetime.now())\n",
    "    if x==2:    \n",
    "        return 'Timestamp: {:%Y-%b-%d %H:%M:%S}'.format(datetime.datetime.now())\n",
    "    if x==3:  \n",
    "        return 'Date now: %s' % datetime.datetime.now()\n",
    "    if x==4:  \n",
    "        return 'Date today: %s' % datetime.date.today() "
   ]
  },
  {
   "cell_type": "code",
   "execution_count": 41,
   "metadata": {},
   "outputs": [
    {
     "name": "stdout",
     "output_type": "stream",
     "text": [
      "Could not create main model directory\n",
      "Could not create main log directory\n"
     ]
    }
   ],
   "source": [
    "main_model_dir = r\"model/\"\n",
    "main_log_dir = r\"log/\"\n",
    "try:\n",
    "    os.mkdir(main_model_dir)\n",
    "except:\n",
    "    print(\"Could not create main model directory\")\n",
    "try:\n",
    "    os.mkdir(main_log_dir)\n",
    "except:\n",
    "    print(\"Could not create main log directory\")\n",
    "\n",
    "model_dir = main_model_dir + time.strftime('%Y-%m-%d %H-%M-%S') + \"/\"\n",
    "log_dir = main_log_dir + time.strftime('%Y-%m-%d %H-%M-%S')\n",
    "try:\n",
    "    os.mkdir(model_dir)\n",
    "except:\n",
    "    print(\"Could not create model directory\")\n",
    "try:\n",
    "    os.mkdir(log_dir)\n",
    "except:\n",
    "    print(\"Could not create log directory\")\n",
    "    \n",
    "model_file = model_dir + \"{epoch:02d}-val_acc-{val_acc:.2f}-val_loss-{val_loss:.2f}.hdf5\""
   ]
  },
  {
   "cell_type": "code",
   "execution_count": 42,
   "metadata": {},
   "outputs": [
    {
     "name": "stdout",
     "output_type": "stream",
     "text": [
      "('Set Callbacks at ', 'Timestamp: 2019-06-08 20:37:40')\n"
     ]
    }
   ],
   "source": [
    "checkpoint = ModelCheckpoint(\n",
    "    model_file, \n",
    "    monitor='val_acc', \n",
    "    save_best_only=True)\n",
    "\n",
    "early_stopping = EarlyStopping(\n",
    "    monitor='val_loss',\n",
    "    patience=9,\n",
    "    verbose=1,\n",
    "    restore_best_weights=True)\n",
    "\n",
    "\n",
    "reduce_lr = ReduceLROnPlateau(\n",
    "    monitor='val_loss',\n",
    "    factor=0.5,\n",
    "    patience=1,\n",
    "    verbose=1)\n",
    "\n",
    "callbacks = [checkpoint, reduce_lr, early_stopping]\n",
    "\n",
    "print(\"Set Callbacks at \", date_time(1))"
   ]
  },
  {
   "cell_type": "markdown",
   "metadata": {},
   "source": [
    "### data transformation for deep learning"
   ]
  },
  {
   "cell_type": "code",
   "execution_count": 43,
   "metadata": {},
   "outputs": [
    {
     "data": {
      "text/plain": [
       "array([[1., 0., 0.],\n",
       "       [1., 0., 0.],\n",
       "       [0., 1., 0.],\n",
       "       ...,\n",
       "       [0., 0., 1.],\n",
       "       [1., 0., 0.],\n",
       "       [1., 0., 0.]], dtype=float32)"
      ]
     },
     "execution_count": 43,
     "metadata": {},
     "output_type": "execute_result"
    }
   ],
   "source": [
    "label_encoder = LabelEncoder()\n",
    "y_train = label_encoder.fit_transform(y_train)\n",
    "y_test = label_encoder.fit_transform(y_test)\n",
    "y_train = to_categorical(y_train)\n",
    "y_test = to_categorical(y_test)\n",
    "\n",
    "y_test"
   ]
  },
  {
   "cell_type": "code",
   "execution_count": 44,
   "metadata": {},
   "outputs": [
    {
     "data": {
      "text/plain": [
       "(9799, 131)"
      ]
     },
     "execution_count": 44,
     "metadata": {},
     "output_type": "execute_result"
    }
   ],
   "source": [
    "max_words = len(set(\" \".join(x_train).split()))\n",
    "max_len = x_train.apply(lambda x: len(x)).max()\n",
    "\n",
    "# max_words = 1000\n",
    "# max_len = 150\n",
    "max_words, max_len"
   ]
  },
  {
   "cell_type": "code",
   "execution_count": 45,
   "metadata": {},
   "outputs": [
    {
     "data": {
      "text/plain": [
       "(2928, 131)"
      ]
     },
     "execution_count": 45,
     "metadata": {},
     "output_type": "execute_result"
    }
   ],
   "source": [
    "tokenizer = Tokenizer(num_words=max_words)\n",
    "tokenizer.fit_on_texts(x_train)\n",
    "\n",
    "x_train_seq = tokenizer.texts_to_sequences(x_train)\n",
    "x_train_seq = sequence.pad_sequences(x_train_seq, maxlen=max_len)\n",
    "x_test_seq = tokenizer.texts_to_sequences(x_test)\n",
    "x_test_seq = sequence.pad_sequences(x_test_seq, maxlen=max_len)\n",
    "x_test_seq.shape"
   ]
  },
  {
   "cell_type": "markdown",
   "metadata": {},
   "source": [
    "### model plotting"
   ]
  },
  {
   "cell_type": "code",
   "execution_count": 46,
   "metadata": {},
   "outputs": [],
   "source": [
    "def plot_performance(history=None, figure_directory=None, ylim_pad=[0, 0]):\n",
    "    xlabel = 'Epoch'\n",
    "    legends = ['Training', 'Test']\n",
    "\n",
    "    plt.figure(figsize=(20, 5))\n",
    "\n",
    "    y1 = history.history['acc']\n",
    "    y2 = history.history['val_acc']\n",
    "\n",
    "    min_y = min(min(y1), min(y2))-ylim_pad[0]\n",
    "    max_y = max(max(y1), max(y2))+ylim_pad[0]\n",
    "\n",
    "\n",
    "    plt.subplot(121)\n",
    "\n",
    "    plt.plot(y1)\n",
    "    plt.plot(y2)\n",
    "\n",
    "    plt.title('Model Accuracy\\n'+date_time(1), fontsize=17)\n",
    "    plt.xlabel(xlabel, fontsize=15)\n",
    "    plt.ylabel('Accuracy', fontsize=15)\n",
    "    plt.ylim(min_y, max_y)\n",
    "    plt.legend(legends, loc='upper left')\n",
    "    plt.grid()\n",
    "\n",
    "    y1 = history.history['loss']\n",
    "    y2 = history.history['val_loss']\n",
    "\n",
    "    min_y = min(min(y1), min(y2))-ylim_pad[1]\n",
    "    max_y = max(max(y1), max(y2))+ylim_pad[1]\n",
    "\n",
    "    plt.subplot(122)\n",
    "    plt.plot(y1)\n",
    "    plt.plot(y2)\n",
    "    plt.title('Model Loss\\n'+date_time(1), fontsize=17)\n",
    "    plt.xlabel(xlabel, fontsize=15)\n",
    "    plt.ylabel('Loss', fontsize=15)\n",
    "    plt.ylim(min_y, max_y)\n",
    "    plt.legend(legends, loc='upper left')\n",
    "    plt.grid()\n",
    "    #plt.savefig(\"/history\")\n",
    "    plt.show()"
   ]
  },
  {
   "cell_type": "markdown",
   "metadata": {},
   "source": [
    "### LSTM"
   ]
  },
  {
   "cell_type": "code",
   "execution_count": 47,
   "metadata": {},
   "outputs": [],
   "source": [
    "def get_rnn_model(num_class=3):\n",
    "    model = Sequential()\n",
    "    \n",
    "    model.add(Embedding(max_words, 100, input_length=max_len))\n",
    "    model.add(LSTM(256))\n",
    "    \n",
    "    model.add(Dropout(0.5))\n",
    "    model.add(BatchNormalization())\n",
    "    model.add(Dropout(0.5))\n",
    "    \n",
    "    model.add(Dense(512, activation='relu'))\n",
    "    \n",
    "    model.add(Dropout(0.5))\n",
    "    model.add(BatchNormalization())\n",
    "    model.add(Dropout(0.5))\n",
    "    \n",
    "    if num_class>2:\n",
    "        model.add(Dense(num_class, activation='softmax'))\n",
    "    else:\n",
    "        model.add(Dense(1, activation='sigmoid'))\n",
    "    \n",
    "    model.summary()\n",
    "    \n",
    "    return model"
   ]
  },
  {
   "cell_type": "code",
   "execution_count": 48,
   "metadata": {},
   "outputs": [
    {
     "name": "stdout",
     "output_type": "stream",
     "text": [
      "_________________________________________________________________\n",
      "Layer (type)                 Output Shape              Param #   \n",
      "=================================================================\n",
      "embedding_1 (Embedding)      (None, 131, 100)          979900    \n",
      "_________________________________________________________________\n",
      "lstm_1 (LSTM)                (None, 256)               365568    \n",
      "_________________________________________________________________\n",
      "dropout_1 (Dropout)          (None, 256)               0         \n",
      "_________________________________________________________________\n",
      "batch_normalization_1 (Batch (None, 256)               1024      \n",
      "_________________________________________________________________\n",
      "dropout_2 (Dropout)          (None, 256)               0         \n",
      "_________________________________________________________________\n",
      "dense_1 (Dense)              (None, 512)               131584    \n",
      "_________________________________________________________________\n",
      "dropout_3 (Dropout)          (None, 512)               0         \n",
      "_________________________________________________________________\n",
      "batch_normalization_2 (Batch (None, 512)               2048      \n",
      "_________________________________________________________________\n",
      "dropout_4 (Dropout)          (None, 512)               0         \n",
      "_________________________________________________________________\n",
      "dense_2 (Dense)              (None, 3)                 1539      \n",
      "=================================================================\n",
      "Total params: 1,481,663\n",
      "Trainable params: 1,480,127\n",
      "Non-trainable params: 1,536\n",
      "_________________________________________________________________\n"
     ]
    }
   ],
   "source": [
    "num_class = 3\n",
    "model1 = get_rnn_model(num_class=num_class)"
   ]
  },
  {
   "cell_type": "code",
   "execution_count": 49,
   "metadata": {},
   "outputs": [
    {
     "name": "stdout",
     "output_type": "stream",
     "text": [
      "Starting...\n",
      "\n",
      "Timestamp: 2019-06-08 20:37:52\n",
      "Train on 9369 samples, validate on 2343 samples\n",
      "Epoch 1/100\n",
      "9369/9369 [==============================] - 61s 6ms/step - loss: 1.4880 - acc: 0.4880 - val_loss: 1.0879 - val_acc: 0.6449\n",
      "Epoch 2/100\n",
      "9369/9369 [==============================] - 59s 6ms/step - loss: 0.8940 - acc: 0.6475 - val_loss: 0.9134 - val_acc: 0.6957\n",
      "Epoch 3/100\n",
      "9369/9369 [==============================] - 57s 6ms/step - loss: 0.5666 - acc: 0.7784 - val_loss: 0.7072 - val_acc: 0.7461\n",
      "Epoch 4/100\n",
      "9369/9369 [==============================] - 62s 7ms/step - loss: 0.4123 - acc: 0.8428 - val_loss: 0.7017 - val_acc: 0.7546\n",
      "Epoch 5/100\n",
      "9369/9369 [==============================] - 55s 6ms/step - loss: 0.3042 - acc: 0.8874 - val_loss: 0.7671 - val_acc: 0.7542\n",
      "\n",
      "Epoch 00005: ReduceLROnPlateau reducing learning rate to 0.000500000023749.\n",
      "Epoch 6/100\n",
      "9369/9369 [==============================] - 57s 6ms/step - loss: 0.2254 - acc: 0.9193 - val_loss: 0.7986 - val_acc: 0.7512\n",
      "\n",
      "Epoch 00006: ReduceLROnPlateau reducing learning rate to 0.000250000011874.\n",
      "Epoch 7/100\n",
      "9369/9369 [==============================] - 61s 6ms/step - loss: 0.1791 - acc: 0.9385 - val_loss: 0.8545 - val_acc: 0.7435\n",
      "\n",
      "Epoch 00007: ReduceLROnPlateau reducing learning rate to 0.000125000005937.\n",
      "Epoch 8/100\n",
      "9369/9369 [==============================] - 57s 6ms/step - loss: 0.1635 - acc: 0.9427 - val_loss: 0.8491 - val_acc: 0.7478\n",
      "\n",
      "Epoch 00008: ReduceLROnPlateau reducing learning rate to 6.25000029686e-05.\n",
      "Epoch 9/100\n",
      "9369/9369 [==============================] - 54s 6ms/step - loss: 0.1546 - acc: 0.9475 - val_loss: 0.8599 - val_acc: 0.7431\n",
      "\n",
      "Epoch 00009: ReduceLROnPlateau reducing learning rate to 3.12500014843e-05.\n",
      "Epoch 10/100\n",
      "9369/9369 [==============================] - 61s 7ms/step - loss: 0.1511 - acc: 0.9471 - val_loss: 0.8515 - val_acc: 0.7507\n",
      "\n",
      "Epoch 00010: ReduceLROnPlateau reducing learning rate to 1.56250007421e-05.\n",
      "Epoch 11/100\n",
      "9369/9369 [==============================] - 61s 6ms/step - loss: 0.1480 - acc: 0.9486 - val_loss: 0.8487 - val_acc: 0.7490\n",
      "\n",
      "Epoch 00011: ReduceLROnPlateau reducing learning rate to 7.81250037107e-06.\n",
      "Epoch 12/100\n",
      "9369/9369 [==============================] - 67s 7ms/step - loss: 0.1490 - acc: 0.9508 - val_loss: 0.8507 - val_acc: 0.7529\n",
      "\n",
      "Epoch 00012: ReduceLROnPlateau reducing learning rate to 3.90625018554e-06.\n",
      "Epoch 13/100\n",
      "9369/9369 [==============================] - 62s 7ms/step - loss: 0.1419 - acc: 0.9514 - val_loss: 0.8518 - val_acc: 0.7503\n",
      "\n",
      "Epoch 00013: ReduceLROnPlateau reducing learning rate to 1.95312509277e-06.\n",
      "Restoring model weights from the end of the best epoch\n",
      "Epoch 00013: early stopping\n",
      "\n",
      "Elapsed Time: 00:12:56\n",
      "Timestamp: 2019-06-08 20:50:48\n",
      "CPU times: user 37min 55s, sys: 5min 27s, total: 43min 22s\n",
      "Wall time: 12min 56s\n"
     ]
    }
   ],
   "source": [
    "%%time\n",
    "print(\"Starting...\\n\")\n",
    "\n",
    "start_time = time.time()\n",
    "print(date_time(1))\n",
    "\n",
    "learning_rate = 0.001\n",
    "optimizer = Adam(learning_rate)\n",
    "# optimizer = Adam()\n",
    "loss = 'categorical_crossentropy'\n",
    "# loss = 'binary_crossentropy'\n",
    "metrics = ['accuracy']\n",
    "\n",
    "verbose = 1\n",
    "epochs = 100\n",
    "batch_size = 128\n",
    "validation_split = 0.2\n",
    "\n",
    "model1.compile(optimizer=optimizer, loss=loss, metrics=metrics)\n",
    "\n",
    "history1 = model1.fit(\n",
    "    x_train_seq,\n",
    "    y_train,\n",
    "    batch_size=batch_size,\n",
    "    epochs=epochs,\n",
    "    verbose=verbose,\n",
    "    callbacks=callbacks,\n",
    "    validation_split=validation_split)\n",
    "\n",
    "elapsed_time = time.time() - start_time\n",
    "elapsed_time = time.strftime(\"%H:%M:%S\", time.gmtime(elapsed_time))\n",
    "\n",
    "print(\"\\nElapsed Time: \" + elapsed_time)\n",
    "print(date_time(1))"
   ]
  },
  {
   "cell_type": "code",
   "execution_count": 50,
   "metadata": {},
   "outputs": [
    {
     "data": {
      "image/png": "[encoded data removed]",
      "text/plain": [
       "<matplotlib.figure.Figure at 0x1abacd26d0>"
      ]
     },
     "metadata": {},
     "output_type": "display_data"
    }
   ],
   "source": [
    "plot_performance(history=history1)"
   ]
  },
  {
   "cell_type": "markdown",
   "metadata": {},
   "source": [
    "### CNN"
   ]
  },
  {
   "cell_type": "code",
   "execution_count": 51,
   "metadata": {},
   "outputs": [],
   "source": [
    "def get_cnn_model(num_class=3):   \n",
    "    model = Sequential()\n",
    "    \n",
    "    model.add(Embedding(max_words, 100, input_length=max_len))\n",
    "    \n",
    "    model.add(Conv1D(1024, 3, padding='valid', activation='relu', strides=1))\n",
    "    model.add(GlobalMaxPooling1D())\n",
    "    \n",
    "    \n",
    "    model.add(Dropout(0.5))\n",
    "    model.add(BatchNormalization())\n",
    "    model.add(Dropout(0.5))\n",
    "    \n",
    "    model.add(Dense(2048, activation='relu'))\n",
    "    \n",
    "    model.add(Dropout(0.5))\n",
    "    model.add(BatchNormalization())\n",
    "    model.add(Dropout(0.5))\n",
    "    \n",
    "    if num_class>2:\n",
    "        model.add(Dense(num_class, activation='softmax'))\n",
    "    else:\n",
    "        model.add(Dense(1, activation='sigmoid'))\n",
    "    \n",
    "    model.summary()\n",
    "    return model"
   ]
  },
  {
   "cell_type": "code",
   "execution_count": 52,
   "metadata": {},
   "outputs": [
    {
     "name": "stdout",
     "output_type": "stream",
     "text": [
      "_________________________________________________________________\n",
      "Layer (type)                 Output Shape              Param #   \n",
      "=================================================================\n",
      "embedding_2 (Embedding)      (None, 131, 100)          979900    \n",
      "_________________________________________________________________\n",
      "conv1d_1 (Conv1D)            (None, 129, 1024)         308224    \n",
      "_________________________________________________________________\n",
      "global_max_pooling1d_1 (Glob (None, 1024)              0         \n",
      "_________________________________________________________________\n",
      "dropout_5 (Dropout)          (None, 1024)              0         \n",
      "_________________________________________________________________\n",
      "batch_normalization_3 (Batch (None, 1024)              4096      \n",
      "_________________________________________________________________\n",
      "dropout_6 (Dropout)          (None, 1024)              0         \n",
      "_________________________________________________________________\n",
      "dense_3 (Dense)              (None, 2048)              2099200   \n",
      "_________________________________________________________________\n",
      "dropout_7 (Dropout)          (None, 2048)              0         \n",
      "_________________________________________________________________\n",
      "batch_normalization_4 (Batch (None, 2048)              8192      \n",
      "_________________________________________________________________\n",
      "dropout_8 (Dropout)          (None, 2048)              0         \n",
      "_________________________________________________________________\n",
      "dense_4 (Dense)              (None, 3)                 6147      \n",
      "=================================================================\n",
      "Total params: 3,405,759\n",
      "Trainable params: 3,399,615\n",
      "Non-trainable params: 6,144\n",
      "_________________________________________________________________\n"
     ]
    }
   ],
   "source": [
    "num_class = 3\n",
    "model2 = get_cnn_model(num_class=num_class)"
   ]
  },
  {
   "cell_type": "code",
   "execution_count": 53,
   "metadata": {},
   "outputs": [
    {
     "name": "stdout",
     "output_type": "stream",
     "text": [
      "Starting...\n",
      "\n",
      "Timestamp: 2019-06-08 20:51:16\n",
      "Train on 9369 samples, validate on 2343 samples\n",
      "Epoch 1/100\n",
      "9369/9369 [==============================] - 65s 7ms/step - loss: 1.4441 - acc: 0.5255 - val_loss: 0.7600 - val_acc: 0.7072\n",
      "Epoch 2/100\n",
      "9369/9369 [==============================] - 62s 7ms/step - loss: 0.8900 - acc: 0.6736 - val_loss: 0.6577 - val_acc: 0.7584\n",
      "Epoch 3/100\n",
      "9369/9369 [==============================] - 65s 7ms/step - loss: 0.6138 - acc: 0.7651 - val_loss: 0.6072 - val_acc: 0.7734\n",
      "Epoch 4/100\n",
      "9369/9369 [==============================] - 66s 7ms/step - loss: 0.4593 - acc: 0.8251 - val_loss: 0.6496 - val_acc: 0.7687\n",
      "\n",
      "Epoch 00004: ReduceLROnPlateau reducing learning rate to 0.000500000023749.\n",
      "Epoch 5/100\n",
      "9369/9369 [==============================] - 65s 7ms/step - loss: 0.3345 - acc: 0.8735 - val_loss: 0.6581 - val_acc: 0.7768\n",
      "\n",
      "Epoch 00005: ReduceLROnPlateau reducing learning rate to 0.000250000011874.\n",
      "Epoch 6/100\n",
      "9369/9369 [==============================] - 66s 7ms/step - loss: 0.2722 - acc: 0.8952 - val_loss: 0.6790 - val_acc: 0.7738\n",
      "\n",
      "Epoch 00006: ReduceLROnPlateau reducing learning rate to 0.000125000005937.\n",
      "Epoch 7/100\n",
      "9369/9369 [==============================] - 67s 7ms/step - loss: 0.2405 - acc: 0.9106 - val_loss: 0.6933 - val_acc: 0.7755\n",
      "\n",
      "Epoch 00007: ReduceLROnPlateau reducing learning rate to 6.25000029686e-05.\n",
      "Epoch 8/100\n",
      "9369/9369 [==============================] - 67s 7ms/step - loss: 0.2256 - acc: 0.9169 - val_loss: 0.7015 - val_acc: 0.7704\n",
      "\n",
      "Epoch 00008: ReduceLROnPlateau reducing learning rate to 3.12500014843e-05.\n",
      "Epoch 9/100\n",
      "9369/9369 [==============================] - 68s 7ms/step - loss: 0.2103 - acc: 0.9201 - val_loss: 0.7069 - val_acc: 0.7691\n",
      "\n",
      "Epoch 00009: ReduceLROnPlateau reducing learning rate to 1.56250007421e-05.\n",
      "Epoch 10/100\n",
      "9369/9369 [==============================] - 66s 7ms/step - loss: 0.2079 - acc: 0.9190 - val_loss: 0.7101 - val_acc: 0.7682\n",
      "\n",
      "Epoch 00010: ReduceLROnPlateau reducing learning rate to 7.81250037107e-06.\n",
      "Epoch 11/100\n",
      "9369/9369 [==============================] - 68s 7ms/step - loss: 0.2088 - acc: 0.9228 - val_loss: 0.7117 - val_acc: 0.7691\n",
      "\n",
      "Epoch 00011: ReduceLROnPlateau reducing learning rate to 3.90625018554e-06.\n",
      "Epoch 12/100\n",
      "9369/9369 [==============================] - 65s 7ms/step - loss: 0.2064 - acc: 0.9244 - val_loss: 0.7128 - val_acc: 0.7682\n",
      "\n",
      "Epoch 00012: ReduceLROnPlateau reducing learning rate to 1.95312509277e-06.\n",
      "Restoring model weights from the end of the best epoch\n",
      "Epoch 00012: early stopping\n",
      "\n",
      "Elapsed Time: 00:13:10\n",
      "('Completed...', 'Timestamp: 2019-06-08 21:04:27')\n",
      "CPU times: user 45min 2s, sys: 1min 47s, total: 46min 50s\n",
      "Wall time: 13min 10s\n"
     ]
    }
   ],
   "source": [
    "%%time\n",
    "print(\"Starting...\\n\")\n",
    "\n",
    "start_time = time.time()\n",
    "print(date_time(1))\n",
    "\n",
    "learning_rate = 0.001\n",
    "optimizer = Adam(learning_rate)\n",
    "# optimizer = Adam()\n",
    "loss = 'categorical_crossentropy'\n",
    "# loss = 'binary_crossentropy'\n",
    "metrics = ['accuracy']\n",
    "\n",
    "model2.compile(optimizer=optimizer, loss=loss, metrics=metrics)\n",
    "\n",
    "verbose = 1\n",
    "epochs = 100\n",
    "batch_size = 128\n",
    "validation_split = 0.2\n",
    "\n",
    "history2 = model2.fit(\n",
    "    x_train_seq,\n",
    "    y_train,\n",
    "    batch_size=batch_size,\n",
    "    epochs=epochs,\n",
    "    verbose=verbose,\n",
    "    callbacks=callbacks,\n",
    "    validation_split=validation_split)\n",
    "\n",
    "elapsed_time = time.time() - start_time\n",
    "elapsed_time = time.strftime(\"%H:%M:%S\", time.gmtime(elapsed_time))\n",
    "\n",
    "print(\"\\nElapsed Time: \" + elapsed_time)\n",
    "print(\"Completed...\", date_time(1))"
   ]
  },
  {
   "cell_type": "code",
   "execution_count": 54,
   "metadata": {},
   "outputs": [
    {
     "data": {
      "image/png": "[encoded data removed]",
      "text/plain": [
       "<matplotlib.figure.Figure at 0x1ab69dad10>"
      ]
     },
     "metadata": {},
     "output_type": "display_data"
    }
   ],
   "source": [
    "plot_performance(history=history2)"
   ]
  },
  {
   "cell_type": "markdown",
   "metadata": {},
   "source": [
    "### Inference/ Prediction"
   ]
  },
  {
   "cell_type": "code",
   "execution_count": 55,
   "metadata": {},
   "outputs": [
    {
     "name": "stdout",
     "output_type": "stream",
     "text": [
      "2928/2928 [==============================] - 7s 2ms/step\n",
      "2928/2928 [==============================] - 3s 1ms/step\n"
     ]
    }
   ],
   "source": [
    "accuracy1 = model1.evaluate(x_test_seq, y_test)\n",
    "accuracy2 = model2.evaluate(x_test_seq, y_test)"
   ]
  },
  {
   "cell_type": "code",
   "execution_count": 56,
   "metadata": {},
   "outputs": [
    {
     "name": "stdout",
     "output_type": "stream",
     "text": [
      "Model Performance of RNN (Test Accuracy):\n",
      "Accuracy: 76.20%\n",
      "Loss: 0.692\n",
      "\n",
      "\n",
      "Model Performance of RNN (Test Accuracy):\n",
      "v: 77.46%\n",
      "Loss: 0.587\n",
      "\n"
     ]
    }
   ],
   "source": [
    "print(\"Model Performance of RNN (Test Accuracy):\")\n",
    "print('Accuracy: {:0.2f}%\\nLoss: {:0.3f}\\n'.format(accuracy1[1]*100, accuracy1[0]))\n",
    "\n",
    "print(\"\\nModel Performance of RNN (Test Accuracy):\")\n",
    "print('v: {:0.2f}%\\nLoss: {:0.3f}\\n'.format(accuracy2[1]*100, accuracy2[0]))"
   ]
  },
  {
   "cell_type": "code",
   "execution_count": 57,
   "metadata": {},
   "outputs": [
    {
     "name": "stdout",
     "output_type": "stream",
     "text": [
      "2928/2928 [==============================] - 7s 2ms/step\n",
      "2928/2928 [==============================] - 4s 1ms/step\n"
     ]
    }
   ],
   "source": [
    "pred_lstm = model1.predict_classes(x_test_seq, verbose=1)\n",
    "pred_cnn = model2.predict_classes(x_test_seq, verbose=1)"
   ]
  },
  {
   "cell_type": "code",
   "execution_count": 58,
   "metadata": {},
   "outputs": [
    {
     "name": "stdout",
     "output_type": "stream",
     "text": [
      "('accuracy: ', 0.7619535519125683)\n",
      "[[1504  284   57]\n",
      " [ 123  429   57]\n",
      " [  65  111  298]]\n",
      "              precision    recall  f1-score   support\n",
      "\n",
      "           0       0.89      0.82      0.85      1845\n",
      "           1       0.52      0.70      0.60       609\n",
      "           2       0.72      0.63      0.67       474\n",
      "\n",
      "   micro avg       0.76      0.76      0.76      2928\n",
      "   macro avg       0.71      0.72      0.71      2928\n",
      "weighted avg       0.79      0.76      0.77      2928\n",
      "\n"
     ]
    }
   ],
   "source": [
    "# LSTM\n",
    "y_test_int = [np.argmax(i) for i in y_test]\n",
    "cm = confusion_matrix(y_test_int, pred_lstm)\n",
    "acc_lr = accuracy_score(y_test_int, pred_lstm)\n",
    "acc_tfidf.append(acc_lr)\n",
    "models.append(\"LSTM\")\n",
    "print(\"accuracy: \", acc_lr)\n",
    "print(cm)\n",
    "print(classification_report(y_test_int, pred_lstm))"
   ]
  },
  {
   "cell_type": "code",
   "execution_count": 59,
   "metadata": {},
   "outputs": [
    {
     "name": "stdout",
     "output_type": "stream",
     "text": [
      "('accuracy: ', 0.7745901639344263)\n",
      "[[1633  170   42]\n",
      " [ 208  326   75]\n",
      " [ 101   64  309]]\n",
      "              precision    recall  f1-score   support\n",
      "\n",
      "           0       0.84      0.89      0.86      1845\n",
      "           1       0.58      0.54      0.56       609\n",
      "           2       0.73      0.65      0.69       474\n",
      "\n",
      "   micro avg       0.77      0.77      0.77      2928\n",
      "   macro avg       0.72      0.69      0.70      2928\n",
      "weighted avg       0.77      0.77      0.77      2928\n",
      "\n"
     ]
    }
   ],
   "source": [
    "# CNN\n",
    "y_test_int = [np.argmax(i) for i in y_test]\n",
    "cm = confusion_matrix(y_test_int, pred_cnn)\n",
    "acc_lr = accuracy_score(y_test_int, pred_cnn)\n",
    "acc_tfidf.append(acc_lr)\n",
    "models.append(\"CNN\")\n",
    "print(\"accuracy: \", acc_lr)\n",
    "print(cm)\n",
    "print(classification_report(y_test_int, pred_cnn))"
   ]
  },
  {
   "cell_type": "markdown",
   "metadata": {},
   "source": [
    "### Comparison with Machine Learning"
   ]
  },
  {
   "cell_type": "code",
   "execution_count": 61,
   "metadata": {},
   "outputs": [
    {
     "data": {
      "text/plain": [
       "<matplotlib.axes._subplots.AxesSubplot at 0x1ab799dc10>"
      ]
     },
     "execution_count": 61,
     "metadata": {},
     "output_type": "execute_result"
    },
    {
     "data": {
      "image/png": "[encoded data removed]",
      "text/plain": [
       "<matplotlib.figure.Figure at 0x1abc3a2d10>"
      ]
     },
     "metadata": {},
     "output_type": "display_data"
    }
   ],
   "source": [
    "zippedList =  list(zip(models, acc_tfidf))\n",
    "# Create a dataframe from zipped list\n",
    "df_model = pd.DataFrame(zippedList, columns = ['Models' , 'accuracy']) \n",
    "#plot\n",
    "df_model.plot(x=\"Models\", y=[\"accuracy\"], kind=\"barh\")"
   ]
  },
  {
   "cell_type": "code",
   "execution_count": 62,
   "metadata": {},
   "outputs": [
    {
     "data": {
      "text/html": [
       "<div>\n",
       "<style scoped>\n",
       "    .dataframe tbody tr th:only-of-type {\n",
       "        vertical-align: middle;\n",
       "    }\n",
       "\n",
       "    .dataframe tbody tr th {\n",
       "        vertical-align: top;\n",
       "    }\n",
       "\n",
       "    .dataframe thead th {\n",
       "        text-align: right;\n",
       "    }\n",
       "</style>\n",
       "<table border=\"1\" class=\"dataframe\">\n",
       "  <thead>\n",
       "    <tr style=\"text-align: right;\">\n",
       "      <th></th>\n",
       "      <th>Models</th>\n",
       "      <th>accuracy</th>\n",
       "    </tr>\n",
       "  </thead>\n",
       "  <tbody>\n",
       "    <tr>\n",
       "      <th>0</th>\n",
       "      <td>LogisticRegression</td>\n",
       "      <td>0.768443</td>\n",
       "    </tr>\n",
       "    <tr>\n",
       "      <th>1</th>\n",
       "      <td>Naive Bayes</td>\n",
       "      <td>0.697746</td>\n",
       "    </tr>\n",
       "    <tr>\n",
       "      <th>2</th>\n",
       "      <td>KNeighborsClassifier</td>\n",
       "      <td>0.403005</td>\n",
       "    </tr>\n",
       "    <tr>\n",
       "      <th>3</th>\n",
       "      <td>SVM</td>\n",
       "      <td>0.630123</td>\n",
       "    </tr>\n",
       "    <tr>\n",
       "      <th>4</th>\n",
       "      <td>DecisionTreeClassifier</td>\n",
       "      <td>0.706626</td>\n",
       "    </tr>\n",
       "    <tr>\n",
       "      <th>5</th>\n",
       "      <td>RandomForestClassifier</td>\n",
       "      <td>0.767760</td>\n",
       "    </tr>\n",
       "    <tr>\n",
       "      <th>6</th>\n",
       "      <td>AdaBoostClassifier</td>\n",
       "      <td>0.714481</td>\n",
       "    </tr>\n",
       "    <tr>\n",
       "      <th>7</th>\n",
       "      <td>XGBClassifier</td>\n",
       "      <td>0.718238</td>\n",
       "    </tr>\n",
       "    <tr>\n",
       "      <th>8</th>\n",
       "      <td>ANN</td>\n",
       "      <td>0.724044</td>\n",
       "    </tr>\n",
       "    <tr>\n",
       "      <th>9</th>\n",
       "      <td>LSTM</td>\n",
       "      <td>0.761954</td>\n",
       "    </tr>\n",
       "    <tr>\n",
       "      <th>10</th>\n",
       "      <td>CNN</td>\n",
       "      <td>0.774590</td>\n",
       "    </tr>\n",
       "  </tbody>\n",
       "</table>\n",
       "</div>"
      ],
      "text/plain": [
       "                    Models  accuracy\n",
       "0       LogisticRegression  0.768443\n",
       "1              Naive Bayes  0.697746\n",
       "2     KNeighborsClassifier  0.403005\n",
       "3                      SVM  0.630123\n",
       "4   DecisionTreeClassifier  0.706626\n",
       "5   RandomForestClassifier  0.767760\n",
       "6       AdaBoostClassifier  0.714481\n",
       "7            XGBClassifier  0.718238\n",
       "8                      ANN  0.724044\n",
       "9                     LSTM  0.761954\n",
       "10                     CNN  0.774590"
      ]
     },
     "execution_count": 62,
     "metadata": {},
     "output_type": "execute_result"
    }
   ],
   "source": [
    "df_model"
   ]
  },
  {
   "cell_type": "code",
   "execution_count": null,
   "metadata": {},
   "outputs": [],
   "source": []
  }
 ],
 "metadata": {
  "kernelspec": {
   "display_name": "Python 2",
   "language": "python",
   "name": "python2"
  },
  "language_info": {
   "codemirror_mode": {
    "name": "ipython",
    "version": 2
   },
   "file_extension": ".py",
   "mimetype": "text/x-python",
   "name": "python",
   "nbconvert_exporter": "python",
   "pygments_lexer": "ipython2",
   "version": "2.7.14"
  }
 },
 "nbformat": 4,
 "nbformat_minor": 2
}
